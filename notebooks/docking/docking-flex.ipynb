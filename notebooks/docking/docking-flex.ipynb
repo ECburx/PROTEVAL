{
 "cells": [
  {
   "cell_type": "markdown",
   "source": [
    "# Flexible Docking\n",
    "\n",
    "Before you start:\n",
    "\n",
    "1. Prepare the ligand using AutoDockTools.\n",
    "2. Prepare the flexible (and rigid) receptor.\n",
    "3. Prepare or define the search space."
   ],
   "metadata": {
    "collapsed": false
   },
   "id": "2aa2c8cbe9610fb3"
  },
  {
   "cell_type": "code",
   "execution_count": 1,
   "id": "initial_id",
   "metadata": {
    "collapsed": true,
    "ExecuteTime": {
     "end_time": "2024-10-12T14:47:31.589995Z",
     "start_time": "2024-10-12T14:47:31.588100Z"
    }
   },
   "outputs": [],
   "source": [
    "from pathlib import Path"
   ]
  },
  {
   "cell_type": "code",
   "outputs": [],
   "source": [
    "PROTEIN_CLS = \"RAS\"\n",
    "PROTEIN_SID = \"SM27\"\n",
    "LIGAND_NAME = \"GDP\"\n",
    "\n",
    "WD = Path(f\"wd/{PROTEIN_CLS}/{PROTEIN_SID}-{LIGAND_NAME}\")\n",
    "WD.mkdir(parents=True, exist_ok=True)\n",
    "\n",
    "# You need to prepare the following:\n",
    "PROTEIN_FLEX_PDBQT = WD / f\"{PROTEIN_SID}.flex.pdbqt\"\n",
    "PROTEIN_RIGID_PDBQT = WD / f\"{PROTEIN_SID}.rigid.pdbqt\"\n",
    "LIGAND_PDBQT = WD / f\"{LIGAND_NAME}.pdbqt\"\n",
    "assert PROTEIN_FLEX_PDBQT.exists() and PROTEIN_RIGID_PDBQT.exists() and LIGAND_PDBQT.exists()\n",
    "\n",
    "# And define the following search space:\n",
    "SPACE_CONF = WD / \"vina.conf\"\n",
    "\n",
    "# Docking settings:\n",
    "NUM_MODES = 25\n",
    "ENERGY_RANGE = 5\n",
    "EXHAUSTIVENESS = 20\n",
    "\n",
    "OUTPUT_PDBQT = WD / f\"{PROTEIN_SID}-{LIGAND_NAME}.docked.pdbqt\""
   ],
   "metadata": {
    "collapsed": false,
    "ExecuteTime": {
     "end_time": "2024-10-12T14:47:31.602930Z",
     "start_time": "2024-10-12T14:47:31.590951Z"
    }
   },
   "id": "9d58016f49625d8f",
   "execution_count": 2
  },
  {
   "cell_type": "code",
   "outputs": [
    {
     "name": "stdout",
     "output_type": "stream",
     "text": [
      "#################################################################\r\n",
      "# If you used AutoDock Vina in your work, please cite:          #\r\n",
      "#                                                               #\r\n",
      "# O. Trott, A. J. Olson,                                        #\r\n",
      "# AutoDock Vina: improving the speed and accuracy of docking    #\r\n",
      "# with a new scoring function, efficient optimization and       #\r\n",
      "# multithreading, Journal of Computational Chemistry 31 (2010)  #\r\n",
      "# 455-461                                                       #\r\n",
      "#                                                               #\r\n",
      "# DOI 10.1002/jcc.21334                                         #\r\n",
      "#                                                               #\r\n",
      "# Please see http://vina.scripps.edu for more information.      #\r\n",
      "#################################################################\r\n",
      "\r\n",
      "WARNING: The search space volume > 27000 Angstrom^3 (See FAQ)\r\n",
      "Detected 24 CPUs\r\n",
      "WARNING: at low exhaustiveness, it may be impossible to utilize all CPUs\r\n",
      "Reading input ... done.\r\n",
      "Setting up the scoring function ... done.\r\n",
      "Analyzing the binding site ... done.\r\n",
      "Using random seed: 1034895956\r\n",
      "Performing search ... \r\n",
      "0%   10   20   30   40   50   60   70   80   90   100%\r\n",
      "|----|----|----|----|----|----|----|----|----|----|\r\n",
      "***************************************************\r\n",
      "done.\r\n",
      "Refining results ... done.\r\n",
      "\r\n",
      "mode |   affinity | dist from best mode\r\n",
      "     | (kcal/mol) | rmsd l.b.| rmsd u.b.\r\n",
      "-----+------------+----------+----------\r\n",
      "   1         -9.5      0.000      0.000\r\n",
      "   2         -9.4      3.175      5.112\r\n",
      "   3         -9.4      5.149     10.179\r\n",
      "   4         -9.3      5.382      9.763\r\n",
      "   5         -9.3      2.966      4.956\r\n",
      "   6         -9.1      2.700      4.842\r\n",
      "   7         -9.1      2.816      5.023\r\n",
      "   8         -9.0      2.986      4.957\r\n",
      "   9         -9.0      4.488      9.892\r\n",
      "  10         -8.8      3.087      5.017\r\n",
      "  11         -8.8      2.967      5.176\r\n",
      "  12         -8.8      4.415     10.361\r\n",
      "  13         -8.7      3.210      5.114\r\n",
      "  14         -8.5      2.889      4.714\r\n",
      "  15         -8.5      4.489      9.515\r\n",
      "  16         -8.5      5.197     10.245\r\n",
      "  17         -8.4      4.407     10.229\r\n",
      "  18         -8.4      2.836      4.874\r\n",
      "  19         -8.4      3.132      5.051\r\n",
      "  20         -8.3      4.324      9.361\r\n",
      "Writing output ... done.\r\n"
     ]
    }
   ],
   "source": [
    "!cd {WD} && vina --receptor {PROTEIN_RIGID_PDBQT.name} --flex {PROTEIN_FLEX_PDBQT.name} --ligand {LIGAND_PDBQT.name} --config {SPACE_CONF.name} --out {OUTPUT_PDBQT.name} --num_modes {NUM_MODES} --energy_range {ENERGY_RANGE} --exhaustiveness {EXHAUSTIVENESS} | tee vina.log"
   ],
   "metadata": {
    "collapsed": false,
    "ExecuteTime": {
     "end_time": "2024-10-12T15:47:54.308424Z",
     "start_time": "2024-10-12T14:48:30.645159Z"
    }
   },
   "id": "1e20dfb97b6a0364",
   "execution_count": 4
  },
  {
   "cell_type": "code",
   "outputs": [],
   "source": [
    "OUTPUT_LIGAND_PREFIX = f\"{LIGAND_NAME}.docked.\"\n",
    "OUTPUT_FLEX_PREFIX = f\"{PROTEIN_SID}.docked.flex.\"\n",
    "\n",
    "!cd {WD} && vina_split --input {OUTPUT_PDBQT.name} --ligand {OUTPUT_LIGAND_PREFIX} --flex {OUTPUT_FLEX_PREFIX}"
   ],
   "metadata": {
    "collapsed": false,
    "ExecuteTime": {
     "end_time": "2024-10-12T15:58:39.891230Z",
     "start_time": "2024-10-12T15:58:39.761266Z"
    }
   },
   "id": "61c9c359289fc2c7",
   "execution_count": 7
  },
  {
   "cell_type": "code",
   "outputs": [],
   "source": [
    "from pymol import cmd\n",
    "\n",
    "for ligand_pdbqt in WD.glob(f\"{OUTPUT_LIGAND_PREFIX}*.pdbqt\"):\n",
    "    i = ligand_pdbqt.stem.split(\".\")[-1]\n",
    "    flex_pdbqt = WD / f\"{OUTPUT_FLEX_PREFIX}{i}.pdbqt\"\n",
    "    assert flex_pdbqt.exists()\n",
    "    cmd.delete('all')\n",
    "    cmd.reinitialize()\n",
    "    cmd.load(PROTEIN_RIGID_PDBQT, \"RIGID\")\n",
    "    cmd.load(flex_pdbqt, \"FLEX\")\n",
    "    cmd.load(ligand_pdbqt, \"LIGAND\")\n",
    "    cmd.create(\"COMPLEX\", \"RIGID or FLEX or LIGAND\")\n",
    "    cmd.save(f\"{WD}/{PROTEIN_SID}-{ligand_pdbqt.stem}.pdb\", \"COMPLEX\")"
   ],
   "metadata": {
    "collapsed": false,
    "ExecuteTime": {
     "end_time": "2024-10-12T16:03:07.907416Z",
     "start_time": "2024-10-12T16:03:07.681541Z"
    }
   },
   "id": "29d4071d0a85d3b1",
   "execution_count": 15
  },
  {
   "cell_type": "code",
   "outputs": [],
   "source": [],
   "metadata": {
    "collapsed": false
   },
   "id": "cddfbc370fb361c3"
  }
 ],
 "metadata": {
  "kernelspec": {
   "display_name": "Python 3",
   "language": "python",
   "name": "python3"
  },
  "language_info": {
   "codemirror_mode": {
    "name": "ipython",
    "version": 2
   },
   "file_extension": ".py",
   "mimetype": "text/x-python",
   "name": "python",
   "nbconvert_exporter": "python",
   "pygments_lexer": "ipython2",
   "version": "2.7.6"
  }
 },
 "nbformat": 4,
 "nbformat_minor": 5
}
