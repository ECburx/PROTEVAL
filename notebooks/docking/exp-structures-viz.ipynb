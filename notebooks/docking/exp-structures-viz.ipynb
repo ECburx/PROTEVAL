{
 "cells": [
  {
   "cell_type": "code",
   "execution_count": 1,
   "id": "initial_id",
   "metadata": {
    "collapsed": true,
    "ExecuteTime": {
     "end_time": "2024-10-13T17:07:05.922050Z",
     "start_time": "2024-10-13T17:07:05.857570Z"
    }
   },
   "outputs": [],
   "source": [
    "from pathlib import Path\n",
    "\n",
    "from pymol import cmd"
   ]
  },
  {
   "cell_type": "code",
   "outputs": [
    {
     "data": {
      "text/plain": "1"
     },
     "execution_count": 2,
     "metadata": {},
     "output_type": "execute_result"
    }
   ],
   "source": [
    "cmd.reinitialize()\n",
    "\n",
    "WD = Path(\"wd/BLDB\")\n",
    "PDB1 = WD / \"1FQG-PNM/1FQG.pdb\"\n",
    "PDB2 = WD / \"1BTL/1BTL.pdb\"\n",
    "PDB3 = WD / \"1GHP-PNM/1GHP.pdb\"\n",
    "cmd.load(PDB1, \"PDB1\")\n",
    "cmd.load(PDB2, \"PDB2\")\n",
    "cmd.load(PDB3, \"PDB3\")\n",
    "cmd.align(\"PDB2\", \"PDB3\")\n",
    "cmd.align(\"PDB1\", \"PDB3\")\n",
    "\n",
    "cmd.remove(\"solvent\")\n",
    "cmd.remove('PDB1 and resn SO4')\n",
    "cmd.remove('PDB1 and chain B')\n",
    "cmd.remove('PDB2 and resn SO4')\n",
    "cmd.remove('PDB2 and chain B')\n",
    "cmd.remove('PDB3')\n",
    "cmd.set('transparency', 0.5, 'polymer')\n",
    "cmd.set('cartoon_transparency', 0.7, 'PDB2')\n",
    "\n",
    "cmd.zoom(\"all\", buffer=0)\n",
    "cmd.rotate(\"x\", 80)\n",
    "cmd.rotate(\"y\", -15)\n",
    "cmd.rotate(\"z\", 90)\n",
    "\n",
    "cmd.hide(\"cartoon\", \"PDB1\")\n",
    "cmd.hide(\"cartoon\", \"PDB2\")\n",
    "cmd.hide(\"sticks\", \"PDB1\")\n",
    "cmd.hide(\"sticks\", \"PDB2\")\n",
    "\n",
    "cmd.show(\"cartoon\", \"PDB1\")\n",
    "cmd.show(\"sticks\", \"PDB1 and not polymer\")\n",
    "cmd.show(\"sticks\", \"PDB1 and resi 70\")\n",
    "cmd.show(\"sticks\", \"PDB1 and resi 170\")\n",
    "cmd.show(\"sticks\", \"PDB1 and resi 166\")\n",
    "cmd.color('white', 'PDB1 and polymer')\n",
    "cmd.color('red', 'PDB1 and resi 70')\n",
    "cmd.color('red', 'PDB1 and resi 170')\n",
    "cmd.color('red', 'PDB1 and resi 166')\n",
    "cmd.show(\"cartoon\", \"PDB2\")\n",
    "cmd.color('0x7DBE68', 'PDB2 and polymer')\n",
    "cmd.png(str(WD / f\"{PDB1.stem}.{PDB2.stem}(overlay).full.png\"), width=1000, height=1000, dpi=300)"
   ],
   "metadata": {
    "collapsed": false,
    "ExecuteTime": {
     "end_time": "2024-10-13T17:07:13.443127Z",
     "start_time": "2024-10-13T17:07:06.073948Z"
    }
   },
   "id": "e74ffdf9d9e06cb9",
   "execution_count": 2
  },
  {
   "cell_type": "code",
   "outputs": [
    {
     "data": {
      "text/plain": "1"
     },
     "execution_count": 3,
     "metadata": {},
     "output_type": "execute_result"
    }
   ],
   "source": [
    "cmd.delete('all')\n",
    "cmd.reinitialize()\n",
    "\n",
    "WD = Path(\"wd/CYTC\")\n",
    "\n",
    "PDB = WD / \"1HRC-HEC/1HRC.pdb\"\n",
    "cmd.load(PDB, \"PDB\")\n",
    "\n",
    "cmd.remove(\"solvent\")\n",
    "cmd.color('white', 'polymer')\n",
    "cmd.set('transparency', 0.5, 'polymer')\n",
    "\n",
    "cmd.zoom(\"all\", buffer=-3)\n",
    "cmd.rotate(\"x\", 75)\n",
    "cmd.rotate(\"y\", 10)\n",
    "\n",
    "cmd.hide(\"sticks\", \"PDB\")\n",
    "cmd.show(\"cartoon\", \"PDB\")\n",
    "cmd.show(\"sticks\", \"PDB and not polymer\")\n",
    "cmd.color('pink', 'PDB and name FE')\n",
    "\n",
    "cmd.show(\"sticks\", \"PDB and resi 18\")\n",
    "cmd.show(\"sticks\", \"PDB and resi 80\")\n",
    "cmd.color('red', 'PDB and resi 18')\n",
    "cmd.color('red', 'PDB and resi 80')\n",
    "\n",
    "cmd.show(\"sticks\", \"PDB and resi 97\")\n",
    "cmd.show(\"sticks\", \"PDB and resi 28\")\n",
    "cmd.show(\"sticks\", \"PDB and resi 48\")\n",
    "cmd.show(\"sticks\", \"PDB and resi 47\")\n",
    "cmd.color('brown', 'PDB and resi 97')\n",
    "cmd.color('brown', 'PDB and resi 28')\n",
    "cmd.color('brown', 'PDB and resi 48')\n",
    "cmd.color('brown', 'PDB and resi 47')\n",
    "\n",
    "cmd.show(\"sticks\", \"PDB and resi 72\")\n",
    "cmd.show(\"sticks\", \"PDB and resi 73\")\n",
    "cmd.show(\"sticks\", \"PDB and resi 87\")\n",
    "cmd.color('0x298cbe', 'PDB and resi 72')\n",
    "cmd.color('0x298cbe', 'PDB and resi 73')\n",
    "cmd.color('0x298cbe', 'PDB and resi 87')\n",
    "\n",
    "cmd.show(\"sticks\", \"PDB and resi 69\")\n",
    "cmd.show(\"sticks\", \"PDB and resi 70\")\n",
    "cmd.show(\"sticks\", \"PDB and resi 88\")\n",
    "cmd.color('0x7DBE68', 'PDB and resi 69')\n",
    "cmd.color('0x7DBE68', 'PDB and resi 70')\n",
    "cmd.color('0x7DBE68', 'PDB and resi 88')\n",
    "\n",
    "cmd.png(str(WD / f\"{PDB.stem}.full.png\"), width=1000, height=1000, dpi=300)"
   ],
   "metadata": {
    "collapsed": false,
    "ExecuteTime": {
     "end_time": "2024-10-13T17:07:15.120565Z",
     "start_time": "2024-10-13T17:07:13.444131Z"
    }
   },
   "id": "6a8bead5bd0866e0",
   "execution_count": 3
  },
  {
   "cell_type": "code",
   "outputs": [],
   "source": [
    "# cmd.delete('all')\n",
    "# cmd.reinitialize()\n",
    "# \n",
    "# WD = Path(\"../DOCKING/GFP/\")\n",
    "# PDB1 = WD / \"4KW4-CRO/4KW4.pdb\"\n",
    "# cmd.load(PDB1, \"PDB1\")\n",
    "# \n",
    "# cmd.remove(\"solvent\")\n",
    "# cmd.color('white', 'polymer')\n",
    "# cmd.set('transparency', 0.5, 'polymer')\n",
    "# cmd.set('cartoon_transparency', 0.2)\n",
    "# \n",
    "# cmd.zoom(\"all\", buffer=-2.5)\n",
    "# cmd.rotate(\"x\", 45)\n",
    "# cmd.rotate(\"y\", 45)\n",
    "# cmd.rotate(\"z\", 45)\n",
    "# \n",
    "# cmd.hide(\"cartoon\", \"PDB1\")\n",
    "# cmd.hide(\"sticks\", \"PDB1\")\n",
    "# \n",
    "# cmd.show(\"cartoon\", \"PDB1\")\n",
    "# cmd.show(\"sticks\", \"PDB1 and not polymer\")\n",
    "# cmd.png(str(WD / f\"{PDB1.stem}.png\"), width=1000, height=1000, dpi=300)\n",
    "# cmd.hide(\"cartoon\", \"PDB1\")\n",
    "# cmd.hide(\"sticks\", \"PDB1 and not polymer\")"
   ],
   "metadata": {
    "collapsed": false,
    "ExecuteTime": {
     "end_time": "2024-10-13T16:50:57.979808Z",
     "start_time": "2024-10-13T16:50:57.977922Z"
    }
   },
   "id": "e237431ea6387946",
   "execution_count": 8
  },
  {
   "cell_type": "code",
   "outputs": [],
   "source": [
    "# cmd.delete('all')\n",
    "# cmd.reinitialize()\n",
    "# \n",
    "# WD = Path(\"../DOCKING/RAS/\")\n",
    "# PDB1 = WD / \"4OBE-GDP/4OBE.pdb\"\n",
    "# cmd.load(PDB1, \"PDB1\")\n",
    "# \n",
    "# cmd.remove(\"solvent\")\n",
    "# cmd.color('white', 'polymer')\n",
    "# cmd.remove('PDB1 and chain B')\n",
    "# # cmd.remove('PDB1 and resn MG')\n",
    "# cmd.set('transparency', 0.5, 'polymer')\n",
    "# # cmd.set('cartoon_transparency', 0.5)\n",
    "# \n",
    "# cmd.rotate(\"x\", 60)\n",
    "# cmd.rotate(\"y\", -20)\n",
    "# cmd.rotate(\"z\", -90)\n",
    "# cmd.zoom(\"all\", buffer=2)\n",
    "# \n",
    "# cmd.hide(\"cartoon\", \"PDB1\")\n",
    "# cmd.hide(\"sticks\", \"PDB1\")\n",
    "# \n",
    "# cmd.show(\"cartoon\", \"PDB1\")\n",
    "# cmd.show(\"sticks\", \"PDB1 and not polymer\")\n",
    "# \n",
    "# cmd.select(\"ploop\", \"resi 11-15 and chain A and PDB1\")\n",
    "# cmd.select(\"switch1\", \"resi 31-41 and chain A and PDB1\")\n",
    "# cmd.select(\"switch2\", \"resi 59-73 and chain A and PDB1\")\n",
    "# cmd.color(\"brown\", \"ploop\")\n",
    "# cmd.color(\"pink\", \"switch1\")\n",
    "# cmd.color(\"0x7DBE68\", \"switch2\")\n",
    "# cmd.color(\"yellow\", \"resn Mg\")\n",
    "# \n",
    "# cmd.show(\"sticks\", \"PDB1 and resi 13\")\n",
    "# cmd.show(\"sticks\", \"PDB1 and resi 15\")\n",
    "# cmd.show(\"sticks\", \"PDB1 and resi 16\")\n",
    "# cmd.show(\"sticks\", \"PDB1 and resi 17\")\n",
    "# cmd.show(\"sticks\", \"PDB1 and resi 18\")\n",
    "# cmd.show(\"sticks\", \"PDB1 and resi 30\")\n",
    "# cmd.show(\"sticks\", \"PDB1 and resi 116\")\n",
    "# cmd.show(\"sticks\", \"PDB1 and resi 119\")\n",
    "# cmd.show(\"sticks\", \"PDB1 and resi 146\")\n",
    "# cmd.color('0x298cbe', 'PDB1 and resi 13')\n",
    "# cmd.color('0x298cbe', 'PDB1 and resi 16')\n",
    "# cmd.color(\"0x298cbe\", \"PDB1 and resi 17\")\n",
    "# cmd.color(\"0x298cbe\", \"PDB1 and resi 18\")\n",
    "# cmd.color(\"0x298cbe\", \"PDB1 and resi 30\")\n",
    "# cmd.color(\"0x298cbe\", \"PDB1 and resi 116\")\n",
    "# cmd.color(\"0x298cbe\", \"PDB1 and resi 119\")\n",
    "# cmd.color(\"0x298cbe\", \"PDB1 and resi 146\")\n",
    "# \n",
    "# cmd.png(str(WD / f\"{PDB1.stem}.png\"), width=1000, height=1000, dpi=300)\n",
    "# cmd.hide(\"cartoon\", \"PDB1\")\n",
    "# cmd.hide(\"sticks\", \"PDB1 and not polymer\")"
   ],
   "metadata": {
    "collapsed": false,
    "ExecuteTime": {
     "end_time": "2024-10-13T16:50:57.989806Z",
     "start_time": "2024-10-13T16:50:57.980521Z"
    }
   },
   "id": "205f157aace0e705",
   "execution_count": 9
  }
 ],
 "metadata": {
  "kernelspec": {
   "display_name": "Python 3",
   "language": "python",
   "name": "python3"
  },
  "language_info": {
   "codemirror_mode": {
    "name": "ipython",
    "version": 2
   },
   "file_extension": ".py",
   "mimetype": "text/x-python",
   "name": "python",
   "nbconvert_exporter": "python",
   "pygments_lexer": "ipython2",
   "version": "2.7.6"
  }
 },
 "nbformat": 4,
 "nbformat_minor": 5
}
