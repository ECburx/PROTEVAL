{
 "cells": [
  {
   "cell_type": "markdown",
   "source": [
    "# Rigid Docking\n",
    "\n",
    "Before you start:\n",
    "\n",
    "1. Prepare receptor and ligand using AutoDockTools. (or see https://autodock-vina.readthedocs.io/en/latest/docking_basic.html)\n",
    "2. Prepare or define the search space."
   ],
   "metadata": {
    "collapsed": false
   },
   "id": "ff24361721f3dda5"
  },
  {
   "cell_type": "code",
   "outputs": [],
   "source": [
    "from pathlib import Path"
   ],
   "metadata": {
    "collapsed": false,
    "ExecuteTime": {
     "end_time": "2024-10-12T23:24:24.189714Z",
     "start_time": "2024-10-12T23:24:24.185537Z"
    }
   },
   "id": "e574c50c50eeb80a",
   "execution_count": 1
  },
  {
   "cell_type": "code",
   "outputs": [],
   "source": [
    "PROTEIN_CLS = \"CYTC\"\n",
    "PROTEIN_SID = \"FM0\"\n",
    "LIGAND_NAME = \"HEC\"\n",
    "\n",
    "WD = Path(f\"wd/{PROTEIN_CLS}/{PROTEIN_SID}-{LIGAND_NAME}\")\n",
    "WD.mkdir(parents=True, exist_ok=True)\n",
    "\n",
    "# You need to prepare the following:\n",
    "PROTEIN_PDBQT = WD / f\"{PROTEIN_SID}.pdbqt\"\n",
    "LIGAND_PDBQT = WD / f\"{LIGAND_NAME}.pdbqt\"\n",
    "assert PROTEIN_PDBQT.exists() and LIGAND_PDBQT.exists()\n",
    "\n",
    "# And define the following search space:\n",
    "SPACE_CONF = WD / \"vina.conf\"\n",
    "\n",
    "# Docking settings:\n",
    "NUM_MODES = 25\n",
    "ENERGY_RANGE = 5\n",
    "EXHAUSTIVENESS = 20\n",
    "\n",
    "OUTPUT_PDBQT = WD / f\"{PROTEIN_SID}-{LIGAND_NAME}.docked.pdbqt\""
   ],
   "metadata": {
    "collapsed": false,
    "ExecuteTime": {
     "end_time": "2024-10-12T23:24:24.204184Z",
     "start_time": "2024-10-12T23:24:24.201480Z"
    }
   },
   "id": "bb241002f181ded",
   "execution_count": 2
  },
  {
   "cell_type": "code",
   "outputs": [
    {
     "name": "stdout",
     "output_type": "stream",
     "text": [
      "#################################################################\r\n",
      "# If you used AutoDock Vina in your work, please cite:          #\r\n",
      "#                                                               #\r\n",
      "# O. Trott, A. J. Olson,                                        #\r\n",
      "# AutoDock Vina: improving the speed and accuracy of docking    #\r\n",
      "# with a new scoring function, efficient optimization and       #\r\n",
      "# multithreading, Journal of Computational Chemistry 31 (2010)  #\r\n",
      "# 455-461                                                       #\r\n",
      "#                                                               #\r\n",
      "# DOI 10.1002/jcc.21334                                         #\r\n",
      "#                                                               #\r\n",
      "# Please see http://vina.scripps.edu for more information.      #\r\n",
      "#################################################################\r\n",
      "\r\n",
      "WARNING: The search space volume > 27000 Angstrom^3 (See FAQ)\r\n",
      "Detected 24 CPUs\r\n",
      "WARNING: at low exhaustiveness, it may be impossible to utilize all CPUs\r\n",
      "Reading input ... done.\r\n",
      "Setting up the scoring function ... done.\r\n",
      "Analyzing the binding site ... done.\r\n",
      "Using random seed: -1327608552\r\n",
      "Performing search ... \r\n",
      "0%   10   20   30   40   50   60   70   80   90   100%\r\n",
      "|----|----|----|----|----|----|----|----|----|----|\r\n",
      "***************************************************\r\n",
      "done.\r\n",
      "Refining results ... done.\r\n",
      "\r\n",
      "mode |   affinity | dist from best mode\r\n",
      "     | (kcal/mol) | rmsd l.b.| rmsd u.b.\r\n",
      "-----+------------+----------+----------\r\n",
      "   1         -7.0      0.000      0.000\r\n",
      "   2         -6.6     22.272     25.785\r\n",
      "   3         -6.4     23.504     26.937\r\n",
      "   4         -6.3      2.374      6.905\r\n",
      "   5         -6.3     19.412     23.443\r\n",
      "   6         -6.3      2.447      6.992\r\n",
      "   7         -6.3      1.792      6.114\r\n",
      "   8         -6.2      3.288      7.228\r\n",
      "   9         -6.2     19.410     24.114\r\n",
      "  10         -6.1     19.440     23.956\r\n",
      "  11         -6.1     19.201     24.145\r\n",
      "  12         -6.0      3.214      6.023\r\n",
      "  13         -6.0      9.985     15.168\r\n",
      "  14         -5.9     11.023     16.441\r\n",
      "  15         -5.9      9.203     13.072\r\n",
      "  16         -5.9      3.522      9.327\r\n",
      "  17         -5.9     10.083     15.114\r\n",
      "  18         -5.9     11.371     16.739\r\n",
      "  19         -5.9     23.563     26.119\r\n",
      "  20         -5.8      2.782      7.138\r\n",
      "Writing output ... done.\r\n"
     ]
    }
   ],
   "source": [
    "!cd {WD} && vina --receptor {PROTEIN_PDBQT.name} --ligand {LIGAND_PDBQT.name} --config {SPACE_CONF.name} --out {OUTPUT_PDBQT.name} --num_modes {NUM_MODES} --energy_range {ENERGY_RANGE} --exhaustiveness {EXHAUSTIVENESS} | tee vina.log"
   ],
   "metadata": {
    "collapsed": false,
    "ExecuteTime": {
     "end_time": "2024-10-12T23:24:52.349262Z",
     "start_time": "2024-10-12T23:24:24.205307Z"
    }
   },
   "id": "1b52b387a2d50f65",
   "execution_count": 3
  },
  {
   "cell_type": "code",
   "outputs": [
    {
     "name": "stdout",
     "output_type": "stream",
     "text": [
      "Prefix for flexible side chains will be FM0-HEC.docked_flex_\r\n"
     ]
    }
   ],
   "source": [
    "OUTPUT_LIGAND_PREFIX = f\"{LIGAND_NAME}.docked.\"\n",
    "\n",
    "!cd {WD} && vina_split --input {OUTPUT_PDBQT.name} --ligand {OUTPUT_LIGAND_PREFIX}"
   ],
   "metadata": {
    "collapsed": false,
    "ExecuteTime": {
     "end_time": "2024-10-12T23:24:52.481683Z",
     "start_time": "2024-10-12T23:24:52.349935Z"
    }
   },
   "id": "bd572a8a6162b1cf",
   "execution_count": 4
  },
  {
   "cell_type": "code",
   "outputs": [],
   "source": [
    "from pymol import cmd\n",
    "\n",
    "for ligand_pdbqt in WD.glob(f\"{OUTPUT_LIGAND_PREFIX}*.pdbqt\"):\n",
    "    cmd.delete('all')\n",
    "    cmd.reinitialize()\n",
    "    cmd.load(PROTEIN_PDBQT, \"RECEPTOR\")\n",
    "    cmd.load(ligand_pdbqt, \"LIGAND\")\n",
    "    cmd.create(\"COMPLEX\", \"RECEPTOR or LIGAND\")\n",
    "    cmd.save(f\"{WD}/{PROTEIN_SID}-{ligand_pdbqt.stem}.pdb\", \"COMPLEX\")"
   ],
   "metadata": {
    "collapsed": false,
    "ExecuteTime": {
     "end_time": "2024-10-12T23:24:52.692678Z",
     "start_time": "2024-10-12T23:24:52.483213Z"
    }
   },
   "id": "73d866dd379beaca",
   "execution_count": 5
  },
  {
   "cell_type": "code",
   "outputs": [],
   "source": [],
   "metadata": {
    "collapsed": false,
    "ExecuteTime": {
     "end_time": "2024-10-12T23:24:52.694457Z",
     "start_time": "2024-10-12T23:24:52.693278Z"
    }
   },
   "id": "4d9ad09790079f66",
   "execution_count": 5
  }
 ],
 "metadata": {
  "kernelspec": {
   "display_name": "Python 3",
   "language": "python",
   "name": "python3"
  },
  "language_info": {
   "codemirror_mode": {
    "name": "ipython",
    "version": 2
   },
   "file_extension": ".py",
   "mimetype": "text/x-python",
   "name": "python",
   "nbconvert_exporter": "python",
   "pygments_lexer": "ipython2",
   "version": "2.7.6"
  }
 },
 "nbformat": 4,
 "nbformat_minor": 5
}
