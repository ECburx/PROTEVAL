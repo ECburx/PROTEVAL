{
 "cells": [
  {
   "cell_type": "code",
   "execution_count": 1,
   "id": "8dfcd853-ee24-4f77-a59f-72e42c9c379c",
   "metadata": {
    "ExecuteTime": {
     "end_time": "2024-10-01T23:08:40.999299Z",
     "start_time": "2024-10-01T23:08:40.996648Z"
    }
   },
   "outputs": [],
   "source": [
    "from pathlib import Path\n",
    "\n",
    "RCSB_DOWNLOAD_URL = \"https://files.rcsb.org/download\"\n",
    "\n",
    "# change accordingly\n",
    "metadata_path = Path(\"../data/RAS.csv\")\n",
    "raw_path = Path(f\"../data/{metadata_path.stem}/raw\")\n",
    "pro_path = Path(f\"../data/{metadata_path.stem}/processed\")\n",
    "fet_path = Path(f\"../data/{metadata_path.stem}/featurized\")"
   ]
  },
  {
   "cell_type": "markdown",
   "source": [
    "Download structures (*.PDB) from RCSB-PDB."
   ],
   "metadata": {
    "collapsed": false
   },
   "id": "c56bc4229b936d75"
  },
  {
   "cell_type": "code",
   "execution_count": 3,
   "id": "c4c6ec0d-8c7c-4cf9-a3dd-1031db1de2a4",
   "metadata": {
    "ExecuteTime": {
     "end_time": "2024-10-01T23:08:56.776700Z",
     "start_time": "2024-10-01T23:08:56.757445Z"
    }
   },
   "outputs": [],
   "source": [
    "from tqdm import tqdm\n",
    "import concurrent.futures\n",
    "from urllib.error import HTTPError\n",
    "from urllib import request\n",
    "import pandas as pd\n",
    "import os\n",
    "\n",
    "\n",
    "def download(i):\n",
    "    try:\n",
    "        fn = f\"{i}.pdb\"\n",
    "        request.urlretrieve(f\"{RCSB_DOWNLOAD_URL}/{fn}\", str(raw_path / fn))\n",
    "        return True\n",
    "    except HTTPError:\n",
    "        return False\n",
    "\n",
    "\n",
    "if not os.path.exists(raw_path):\n",
    "    print(f\"Downloading complexes structures from RCSB-PDB. ({metadata_path})\")\n",
    "    os.makedirs(raw_path)\n",
    "    struct_ids = set(pd.read_csv(metadata_path)[\"Entry ID\"].values)\n",
    "\n",
    "    with concurrent.futures.ThreadPoolExecutor(max_workers=10) as executor:\n",
    "        results = list(tqdm(executor.map(download, struct_ids), total=len(struct_ids), desc=\"Downloading...\"))\n",
    "        print(f\"{results.count(False)} failed.\")"
   ]
  },
  {
   "cell_type": "raw",
   "source": [
    "Pre-process PDB files."
   ],
   "metadata": {
    "collapsed": false
   },
   "id": "2f991b9f8b75ec8e"
  },
  {
   "cell_type": "code",
   "execution_count": 7,
   "id": "b4f1063e-b7a9-4cde-8a7e-8769e67fb208",
   "metadata": {
    "ExecuteTime": {
     "end_time": "2024-09-28T18:59:19.180594Z",
     "start_time": "2024-09-28T18:58:45.224957Z"
    }
   },
   "outputs": [
    {
     "name": "stdout",
     "output_type": "stream",
     "text": [
      "Pre-processing structures.\n"
     ]
    },
    {
     "name": "stderr",
     "output_type": "stream",
     "text": [
      "502it [00:33, 14.79it/s]\n"
     ]
    }
   ],
   "source": [
    "from src.io import read_pdb, get_chain, save_chain\n",
    "\n",
    "if not os.path.exists(str(pro_path)):\n",
    "    print(\"Pre-processing structures.\")\n",
    "    os.makedirs(pro_path)\n",
    "    metadata = pd.read_csv(metadata_path).groupby('Entry ID')['Auth Asym ID'].apply(list).to_dict()\n",
    "    for pdb in tqdm(raw_path.glob('*.pdb')):\n",
    "        pdb_id = pdb.stem\n",
    "        pdb = read_pdb(pdb, sid=pdb_id)\n",
    "        for chain_id in metadata[pdb_id]:\n",
    "            cid = f\"{pdb_id}_{chain_id}\"\n",
    "            chain = get_chain(pdb, chain_id)\n",
    "            save_chain(f\"{str(pro_path)}/{cid}.pdb\", chain, cid)"
   ]
  },
  {
   "cell_type": "markdown",
   "source": [
    "```\n",
    "python data/process_pdb_files.py --pdb_dir data/BLDB/processed --write_dir data/BLDB/featurized\n",
    "```"
   ],
   "metadata": {
    "collapsed": false
   },
   "id": "bec017b4f60315ab"
  },
  {
   "cell_type": "code",
   "outputs": [],
   "source": [
    "with open(f\"{fet_path}/cluster.txt\", 'w', encoding='utf-8') as file:\n",
    "    for item in [f\"{path.stem}_1\" for path in list(raw_path.glob('*.pdb'))]:\n",
    "        file.write(item + '\\n')"
   ],
   "metadata": {
    "collapsed": false,
    "ExecuteTime": {
     "end_time": "2024-09-28T18:57:55.698320Z",
     "start_time": "2024-09-28T18:57:55.694995Z"
    }
   },
   "id": "18b15efe7551c863",
   "execution_count": 4
  },
  {
   "cell_type": "markdown",
   "source": [],
   "metadata": {
    "collapsed": false
   },
   "id": "57ea36d2901d2831"
  },
  {
   "cell_type": "code",
   "outputs": [
    {
     "name": "stdout",
     "output_type": "stream",
     "text": [
      "Count: Chain=895 PDB=511\n",
      "Length: Median=170.0, mean=171.77064220183487\n"
     ]
    },
    {
     "data": {
      "text/plain": "<Figure size 200x200 with 1 Axes>",
      "image/png": "[encoded data removed]"
     },
     "metadata": {},
     "output_type": "display_data"
    }
   ],
   "source": [
    "import src.colorscheme as color\n",
    "import numpy as np\n",
    "from matplotlib import pyplot as plt\n",
    "import seaborn as sns\n",
    "\n",
    "metadata = pd.read_csv(metadata_path)\n",
    "lengths = []\n",
    "categories = []\n",
    "for pdb in pro_path.glob('*.pdb'):\n",
    "    pdb, chain_id = pdb.stem.split(\"_\")\n",
    "    if not (query := metadata[(metadata[\"Entry ID\"] == pdb) & (metadata[\"Auth Asym ID\"] == chain_id)]).empty:\n",
    "        lengths.append(query[\"Polymer Entity Sequence Length\"].values[0])\n",
    "        categories.append(query[\"Macromolecule Name\"].values[0])\n",
    "\n",
    "print(f\"Count: Chain={len(metadata)} PDB={len(metadata['Entry ID'].unique())}\")\n",
    "print(f\"Length: Median={np.median(lengths)}, mean={np.mean(lengths)}\")\n",
    "\n",
    "plt.figure(figsize=(2, 2))\n",
    "ax = sns.histplot(pd.Series(lengths).astype(float), kde=True, stat=\"count\", bins=15, color=color.CS_BG)\n",
    "ax.lines[0].set_color(color.CS_FG_A)\n",
    "# plt.xticks(list(range(70, 550, 30)), rotation=90)\n",
    "plt.grid(which=\"major\", axis=\"both\", color=\"black\", alpha=0.1)\n",
    "for spine in ax.spines.values():\n",
    "    spine.set_edgecolor(\"k\")\n",
    "    spine.set_linewidth(0.5)\n",
    "# plt.xticks([250, 300, 350, 400])\n",
    "plt.title(metadata_path.stem)\n",
    "plt.xlabel('Length (aa)')\n",
    "plt.ylabel('Count')\n",
    "plt.show()"
   ],
   "metadata": {
    "collapsed": false,
    "ExecuteTime": {
     "end_time": "2024-10-01T23:09:00.312388Z",
     "start_time": "2024-10-01T23:08:59.907764Z"
    }
   },
   "id": "73f50ab74f4db4d1",
   "execution_count": 4
  },
  {
   "cell_type": "code",
   "outputs": [
    {
     "data": {
      "text/plain": "<Figure size 1300x100 with 1 Axes>",
      "image/png": "[encoded data removed]"
     },
     "metadata": {},
     "output_type": "display_data"
    }
   ],
   "source": [
    "from collections import Counter\n",
    "\n",
    "category_counts = Counter(categories)\n",
    "total = sum(category_counts.values())\n",
    "proportions = {k: v / total * 100 for k, v in category_counts.items()}\n",
    "sorted_proportions = dict(sorted(proportions.items(), key=lambda item: item[1], reverse=True))\n",
    "labels = list(sorted_proportions.keys())\n",
    "values = list(sorted_proportions.values())\n",
    "plt.figure(figsize=(13, 1))\n",
    "cmap = plt.cm.Greys\n",
    "colors = [cmap(i / len(values)) for i in range(len(values))][::-1]\n",
    "\n",
    "\n",
    "def wrap_labels(label, max_width):\n",
    "    words = label.split()\n",
    "    wrapped_label = \"\"\n",
    "    line = \"\"\n",
    "    for word in words:\n",
    "        if len(line + \" \" + word) <= max_width:\n",
    "            line += \" \" + word\n",
    "        else:\n",
    "            wrapped_label += line + \"\\n\"\n",
    "            line = word\n",
    "    wrapped_label += line\n",
    "    return wrapped_label.strip()\n",
    "\n",
    "\n",
    "max_width = 30\n",
    "for i, (label, value) in enumerate(sorted_proportions.items()):\n",
    "    plt.barh(0, value, left=sum(values[:i]), color=colors[i], edgecolor='white')\n",
    "    if value >= 2:\n",
    "        wrapped_label = wrap_labels(label, max_width)\n",
    "        plt.text(sum(values[:i]) + value / 2, 0.45,\n",
    "                 wrapped_label, ha='center', va='bottom', fontsize=10, rotation=90)\n",
    "    if value >= 2:\n",
    "        plt.text(sum(values[:i]) + value / 2, 0,\n",
    "                 f'{value:.1f}%', ha='center', va='center', color='white', fontsize=10, rotation=90)\n",
    "\n",
    "plt.gca().axes.get_yaxis().set_visible(False)\n",
    "plt.gca().spines['top'].set_visible(False)\n",
    "plt.gca().spines['right'].set_visible(False)\n",
    "plt.gca().spines['left'].set_visible(False)\n",
    "plt.gca().spines['bottom'].set_visible(False)\n",
    "plt.xlim(0, 100)\n",
    "plt.gca().axes.get_yaxis().set_ticks([])\n",
    "plt.gca().axes.get_xaxis().set_ticks([])\n",
    "plt.show()"
   ],
   "metadata": {
    "collapsed": false,
    "ExecuteTime": {
     "end_time": "2024-10-01T23:09:01.974500Z",
     "start_time": "2024-10-01T23:09:01.936650Z"
    }
   },
   "id": "d62d8d45846c7e32",
   "execution_count": 5
  },
  {
   "cell_type": "markdown",
   "source": [
    "```\n",
    "python runner/train.py\n",
    "python runner/inference.py\n",
    "```"
   ],
   "metadata": {
    "collapsed": false
   },
   "id": "e881c19eb72fda65"
  }
 ],
 "metadata": {
  "kernelspec": {
   "display_name": "Python 3 (ipykernel)",
   "language": "python",
   "name": "python3"
  },
  "language_info": {
   "codemirror_mode": {
    "name": "ipython",
    "version": 3
   },
   "file_extension": ".py",
   "mimetype": "text/x-python",
   "name": "python",
   "nbconvert_exporter": "python",
   "pygments_lexer": "ipython3",
   "version": "3.10.14"
  }
 },
 "nbformat": 4,
 "nbformat_minor": 5
}
