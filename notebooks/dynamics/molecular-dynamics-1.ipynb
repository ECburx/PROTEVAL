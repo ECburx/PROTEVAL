{
 "cells": [
  {
   "cell_type": "markdown",
   "id": "6bd810ae5a4297d5",
   "metadata": {
    "collapsed": false
   },
   "source": [
    "# Molecular Dynamics: Stability\n",
    "\n",
    "Before continue, you should have:\n",
    "\n",
    "- installed GROMACS\n",
    "- put CHARMM36 force field in the correct location\n",
    "- generated a backbone structure\n",
    "- predicted the sequence of the generated structure\n",
    "- modelled and added side chains to the structure\n",
    "- added H atoms to the structure"
   ]
  },
  {
   "cell_type": "code",
   "execution_count": null,
   "id": "c9e8186606e33e6a",
   "metadata": {
    "collapsed": false
   },
   "outputs": [],
   "source": [
    "import os\n",
    "\n",
    "os.environ['PATH'] = '/usr/local/gromacs/bin:' + os.environ['PATH']"
   ]
  },
  {
   "cell_type": "code",
   "execution_count": null,
   "id": "e4a0520d23bae214",
   "metadata": {
    "collapsed": false
   },
   "outputs": [],
   "source": [
    "from pathlib import Path\n",
    "import numpy as np\n",
    "import pandas as pd\n",
    "import matplotlib.pyplot as plt\n",
    "from matplotlib.ticker import ScalarFormatter"
   ]
  },
  {
   "cell_type": "code",
   "execution_count": null,
   "id": "c24f0dd118a5746c",
   "metadata": {
    "collapsed": false
   },
   "outputs": [],
   "source": [
    "PROTEIN_CLS = \"GFP\"\n",
    "PROTEIN_SID = \"FM_4\"\n",
    "PROTEIN_PDB = Path(f\"../data/{PROTEIN_CLS}/generated/BQSH/{PROTEIN_SID}.pdb\")\n",
    "\n",
    "# Create a new working directory!\n",
    "WD = Path(f\"wd-md1/{PROTEIN_CLS}/{PROTEIN_SID}\")\n",
    "WD.mkdir(parents=True, exist_ok=True)\n",
    "\n",
    "# TOOLS: Change the path accordingly\n",
    "GROMACS_PATH = \"~/WS/ProtMatch/gromacs\""
   ]
  },
  {
   "cell_type": "markdown",
   "id": "49d45c9329e3da8f",
   "metadata": {
    "collapsed": false
   },
   "source": [
    "Cleaning the input structure\n",
    "\n",
    "Strip out all the atoms that do not belong to the protein (e.i crystal waters, ligands, etc)."
   ]
  },
  {
   "cell_type": "code",
   "execution_count": null,
   "id": "initial_id",
   "metadata": {
    "collapsed": true,
    "jupyter": {
     "outputs_hidden": true
    }
   },
   "outputs": [],
   "source": [
    "PROTEIN_TMP = Path(f\"{PROTEIN_PDB.name}_tmp.pdb\")\n",
    "!grep -v HETATM {PROTEIN_PDB} > {WD}/{PROTEIN_TMP}\n",
    "\n",
    "PROTEIN_PDB = Path(PROTEIN_PDB.name)\n",
    "!cd {WD} && grep -v CONECT {PROTEIN_TMP} > {PROTEIN_PDB}\n",
    "\n",
    "!cd {WD} && rm -f {PROTEIN_TMP}\n",
    "del PROTEIN_TMP"
   ]
  },
  {
   "cell_type": "markdown",
   "id": "7274fa924cc3d4bd",
   "metadata": {
    "collapsed": false
   },
   "source": [
    "Move the protein to the origin."
   ]
  },
  {
   "cell_type": "code",
   "execution_count": null,
   "id": "e6571876283f3f45",
   "metadata": {
    "collapsed": false
   },
   "outputs": [],
   "source": [
    "PROTEIN_TMP = Path(f\"{PROTEIN_PDB.stem}.pdb\")\n",
    "!cd {WD} && vmd -dispdev text -eofexit -args < {GROMACS_PATH}/to_origin.tcl {PROTEIN_PDB} {PROTEIN_TMP}\n",
    "PROTEIN_PDB = PROTEIN_TMP\n",
    "del PROTEIN_TMP"
   ]
  },
  {
   "cell_type": "markdown",
   "id": "a8976296a1c0324f",
   "metadata": {
    "collapsed": false
   },
   "source": [
    "## Setting Up the Simulation Box and Converting File Format\n",
    "\n",
    "- Distance between the solute and the box: 15 nm\n",
    "- Box type: octahedron\n",
    "- Center molecule in box."
   ]
  },
  {
   "cell_type": "code",
   "execution_count": null,
   "id": "d07ea1f60f2cd5db",
   "metadata": {
    "collapsed": false
   },
   "outputs": [],
   "source": [
    "PROTEIN_GRO = Path(f\"{PROTEIN_PDB.stem}.gro\")\n",
    "!cd {WD} && gmx editconf -f {PROTEIN_PDB} -o {PROTEIN_GRO} -c -d 1.5 -bt octahedron"
   ]
  },
  {
   "cell_type": "markdown",
   "id": "c66532a52b01df84",
   "metadata": {
    "collapsed": false
   },
   "source": [
    "## Generating Topology with CHARMM36 Force Field\n",
    "\n",
    "Generate the topology for the protein structure using the **charmm36** force field and the **TIP3P** water model.\n",
    "The topology file defines the molecular structure, including atomic types, charges, and bonding information, which is essential for subsequent molecular dynamics simulations.\n",
    "\n",
    "> (From GROMACS 2024 Manual)\n",
    "> CHARMM (Chemistry at HARvard Macromolecular Mechanics) is a both a set of force fields and a software package for molecular dynamics (page 328) simulations and analysis. Includes united atom (CHARMM19) and all atom (CHARMM22, CHARMM27, CHARMM36) force fields (page 328). The CHARMM27 force field has been ported to GROMACS and is officially supported. CHARMM36 force field files can be obtained from the MacKerell lab website, which regularly produces up-to-date CHARMM force field files in GROMACS format.\n",
    "> \n",
    "> For using CHARMM36 in GROMACS, please use the following settings in the mdp (page 483) file:\n",
    "> ```\n",
    "> constraints = h-bonds\n",
    "> cutoff-scheme = Verlet\n",
    "> vdwtype = cutoff\n",
    "> vdw-modifier = force-switch\n",
    "> rlist = 1.2\n",
    "> rvdw = 1.2\n",
    "> rvdw-switch = 1.0\n",
    "> coulombtype = PME\n",
    "> rcoulomb = 1.2\n",
    "> DispCorr = no\n",
    "> ```\n",
    "> Note that dispersion correction should be applied in the case of lipid monolayers, but not bilayers.\n",
    "> Please also note that the switching distance is a matter of some debate in lipid bilayer simulations, and it is depen\u0002dent to some extent on the nature of the lipid. Some studies have found that an 0.8-1.0 nm switch is appropriate, others argue 0.8-1.2 nm is best, and yet others stand by 1.0-1.2 nm. The user is cautioned to thoroughly investigate the force field literature for their chosen lipid(s) before beginning a simulation!\n"
   ]
  },
  {
   "cell_type": "code",
   "execution_count": null,
   "id": "8860de52c6fcfb41",
   "metadata": {
    "collapsed": false
   },
   "outputs": [],
   "source": [
    "PROTEIN_TOP_GRO = Path(f\"{PROTEIN_PDB.stem}_top.gro\")\n",
    "PROTEIN_TOP = Path(f\"{PROTEIN_PDB.stem}.top\")\n",
    "FF_PATH = Path(\"../gromacs/charmm36-jul2022.ff\")\n",
    "!cp -r {FF_PATH} {WD}\n",
    "# !cd {WD} && gmx pdb2gmx -f {PROTEIN_GRO} -o {PROTEIN_TOP_GRO} -p {PROTEIN_TOP} -water tip3p -ff charmm36-jul2022\n",
    "# Any errors check https://manual.gromacs.org/2021.4/user-guide/run-time-errors.html.\n",
    "# If a fatal error occurred due to H, this atom may not defined in the FF.\n",
    "# Consider to remove this atom from PDB, or (not recommended) ignore hydrogen atoms with `-ignh`.\n",
    "!cd {WD} && gmx pdb2gmx -f {PROTEIN_GRO} -o {PROTEIN_TOP_GRO} -p {PROTEIN_TOP} -water tip3p -ff charmm36-jul2022 -ignh"
   ]
  },
  {
   "cell_type": "code",
   "outputs": [],
   "source": [
    "!cd {WD} && gmx editconf -f {PROTEIN_TOP_GRO} -o output.pdb"
   ],
   "metadata": {
    "collapsed": false
   },
   "id": "caebb707c1911e09",
   "execution_count": null
  },
  {
   "cell_type": "markdown",
   "id": "3a61ed63f3732e85",
   "metadata": {
    "collapsed": false
   },
   "source": [
    "## Running Energy Minimization\n",
    "\n",
    "Create a `.tpr` file which is a portable binary run input file that contains all the necessary information for performing an energy minimization on the protein structure in a vacuum.\n",
    "Ensure that the structure is stable and free from significant steric clashes or unrealistic geometries before proceeding to further simulations."
   ]
  },
  {
   "cell_type": "code",
   "execution_count": null,
   "id": "f1f14da9d5d2affe",
   "metadata": {
    "collapsed": false
   },
   "outputs": [],
   "source": [
    "MIN_SD_MDP = Path(GROMACS_PATH) / \"min_sd.mdp\"\n",
    "VACUUM_TPR = Path(f\"{PROTEIN_PDB.stem}_vacuum.tpr\")\n",
    "!cd {WD} && gmx grompp -v -f {MIN_SD_MDP} -c {PROTEIN_TOP_GRO} -p {PROTEIN_TOP} -o {VACUUM_TPR} -maxwarn 1"
   ]
  },
  {
   "cell_type": "markdown",
   "id": "45b1215d554a17",
   "metadata": {
    "collapsed": false
   },
   "source": [
    "Perform an energy minimization on the protein structure in a vacuum.\n",
    "This is to eliminate any steric clashes or inappropriate geometry in the molecular structure.\n",
    "It adjusts the positions of atoms to find a local minimum in the potential energy landscape, leading to a more stable conformation."
   ]
  },
  {
   "cell_type": "code",
   "execution_count": null,
   "id": "25c6b2131526a354",
   "metadata": {
    "collapsed": false
   },
   "outputs": [],
   "source": [
    "VACUUM_GRO = Path(f\"{VACUUM_TPR.stem}.gro\")\n",
    "!cd {WD} && gmx mdrun -v -deffnm {VACUUM_TPR.stem} -c {VACUUM_GRO} -gpu_id 0"
   ]
  },
  {
   "cell_type": "markdown",
   "source": [
    "Analyse and visualize the energy minimization results."
   ],
   "metadata": {
    "collapsed": false
   },
   "id": "8488103b50f936c1"
  },
  {
   "cell_type": "code",
   "outputs": [],
   "source": [
    "VACUUM_EDR = Path(f\"{VACUUM_GRO.stem}.edr\")\n",
    "VACUUM_XVG = Path(f\"{VACUUM_GRO.stem}.xvg\")\n",
    "!cd {WD} && echo \"11\" | gmx energy -f {VACUUM_EDR} -o {VACUUM_XVG} -xvg none\n",
    "\n",
    "fig, ax = plt.subplots(figsize=(3, 3))\n",
    "df = pd.read_csv(WD / VACUUM_XVG, sep='\\s+', header=None, names=['step', 'energy'])\n",
    "plt.plot(df[\"step\"], df[\"energy\"], color=\"black\")\n",
    "plt.xlabel(\"step\")\n",
    "plt.ylabel(\"energy (kJ/mol)\")\n",
    "ax.yaxis.set_major_formatter(ScalarFormatter(useMathText=True))\n",
    "ax.ticklabel_format(style='sci', axis='y', scilimits=(0, 0))\n",
    "plt.grid(False)\n",
    "plt.show()"
   ],
   "metadata": {
    "collapsed": false
   },
   "id": "79dde4743db45703",
   "execution_count": null
  },
  {
   "cell_type": "markdown",
   "id": "54f64417db5490ac",
   "metadata": {
    "collapsed": false
   },
   "source": [
    "## Solvating the System\n",
    "\n",
    "Surrounding the protein with water molecules to create a realistic biological environment for molecular dynamics simulations."
   ]
  },
  {
   "cell_type": "code",
   "execution_count": null,
   "id": "8a4b839e3e416a41",
   "metadata": {
    "collapsed": false
   },
   "outputs": [],
   "source": [
    "WATER_GRO = Path(f\"{PROTEIN_PDB.stem}_water.gro\")\n",
    "!cd {WD} && gmx solvate -cp {VACUUM_GRO} -cs spc216.gro -p {PROTEIN_TOP} -o {WATER_GRO}"
   ]
  },
  {
   "cell_type": "markdown",
   "id": "16a8078a70ca30c",
   "metadata": {
    "collapsed": false
   },
   "source": [
    "Remove any water molecules that may have inadvertently entered the core of the protein (within 3 Ångströms of the protein) during the solvation process.\n",
    "Internal water molecules within the protein core can interfere with the protein's structure and function."
   ]
  },
  {
   "cell_type": "code",
   "execution_count": null,
   "id": "aad7493c9d8e9a40",
   "metadata": {
    "collapsed": false
   },
   "outputs": [],
   "source": [
    "WATER_RM_GRO = Path(f\"{PROTEIN_PDB.stem}_waterRM.gro\")\n",
    "DEL_H2O_TCL = Path(GROMACS_PATH) / \"del_wat_inside.tcl\"\n",
    "!cd {WD} && vmd -dispdev text -eofexit -args < {DEL_H2O_TCL} {WATER_GRO} {PROTEIN_TOP} {WATER_RM_GRO}"
   ]
  },
  {
   "cell_type": "markdown",
   "id": "f89b2cb01fe1bb8e",
   "metadata": {
    "collapsed": false
   },
   "source": [
    "You may need to correct formatting issues in the GRO file generated during the molecular dynamics simulation setup process.\n",
    "See https://github.com/allison-group/structural-phylogenetics-bootstrap/blob/master/MD/GMX/fix_gro.py"
   ]
  },
  {
   "cell_type": "markdown",
   "id": "f070a8f50e2e4ab4",
   "metadata": {
    "collapsed": false
   },
   "source": [
    "## Energy Minimization After Adding Waters"
   ]
  },
  {
   "cell_type": "code",
   "execution_count": null,
   "id": "27f0ee5e215e20df",
   "metadata": {
    "collapsed": false
   },
   "outputs": [],
   "source": [
    "WATER_RM_TPR = Path(f\"{WATER_RM_GRO.stem}.tpr\")\n",
    "!cd {WD} && gmx grompp -v -f {MIN_SD_MDP} -c {WATER_RM_GRO} -p {PROTEIN_TOP} -o {WATER_RM_TPR} -maxwarn 1"
   ]
  },
  {
   "cell_type": "markdown",
   "id": "3be39c6e174664f8",
   "metadata": {
    "collapsed": false
   },
   "source": [
    "Adding ions to neutralize the system:\n",
    "\n",
    "Add the appropriate number of positive (Na+) and negative (Cl-) ions to the solvated protein system. We aim to approximate physiological conditions and use therefore a NaCl concentration of 0.15 M."
   ]
  },
  {
   "cell_type": "code",
   "execution_count": null,
   "id": "37ea896eae50b80d",
   "metadata": {
    "collapsed": false
   },
   "outputs": [],
   "source": [
    "SOLVATED_GRO = Path(f\"{WATER_RM_TPR.stem}_solvated.gro\")\n",
    "!cd {WD} && echo SOL | gmx genion -s {WATER_RM_TPR} -o {SOLVATED_GRO} -conc 0.15 -pname NA -nname CL -neutral -p {PROTEIN_TOP}"
   ]
  },
  {
   "cell_type": "markdown",
   "id": "c6929af7e4e25d95",
   "metadata": {
    "collapsed": false
   },
   "source": [
    "Minimize energy again."
   ]
  },
  {
   "cell_type": "code",
   "execution_count": null,
   "id": "96ef0822a18f73e6",
   "metadata": {
    "collapsed": false
   },
   "outputs": [],
   "source": [
    "SOLVATED_TPR = Path(f\"{SOLVATED_GRO.stem}.tpr\")\n",
    "!cd {WD} && gmx grompp -v -f {MIN_SD_MDP} -c {SOLVATED_GRO} -p {PROTEIN_TOP} -o {SOLVATED_TPR}"
   ]
  },
  {
   "cell_type": "code",
   "execution_count": null,
   "id": "5e852edc2d93faff",
   "metadata": {
    "collapsed": false
   },
   "outputs": [],
   "source": [
    "!cd {WD} && gmx mdrun -v -deffnm {SOLVATED_TPR.stem} -c {SOLVATED_GRO} -gpu_id 0"
   ]
  },
  {
   "cell_type": "code",
   "outputs": [],
   "source": [
    "VACUUM_EDR = Path(f\"{SOLVATED_GRO.stem}.edr\")\n",
    "VACUUM_XVG = Path(f\"{SOLVATED_GRO.stem}.xvg\")\n",
    "!cd {WD} && echo \"11\" | gmx energy -f {VACUUM_EDR} -o {VACUUM_XVG} -xvg none\n",
    "\n",
    "fig, ax = plt.subplots(figsize=(3, 3))\n",
    "df = pd.read_csv(WD / VACUUM_XVG, sep='\\s+', header=None, names=['step', 'energy'])\n",
    "plt.plot(df[\"step\"], df[\"energy\"], color=\"black\")\n",
    "plt.xlabel(\"step\")\n",
    "plt.ylabel(\"energy (kJ/mol)\")\n",
    "ax.yaxis.set_major_formatter(ScalarFormatter(useMathText=True))\n",
    "ax.ticklabel_format(style='sci', axis='y', scilimits=(0, 0))\n",
    "plt.grid(False)\n",
    "plt.show()"
   ],
   "metadata": {
    "collapsed": false
   },
   "id": "bdde5bb10b8b5f3a",
   "execution_count": null
  },
  {
   "cell_type": "markdown",
   "id": "c6899f94d23c97ce",
   "metadata": {
    "collapsed": false
   },
   "source": [
    "## Equilibration - Temperature\n",
    "\n",
    "Perform NVT (constant Number of particles, Volume, and Temperature) heating on the solvated protein system, \n",
    "where the system is gradually heated to the target temperature under constant volume conditions.\n",
    "\n",
    "The main goals are:\n",
    "- to slowly increase the temperature of the system, allowing it to adapt without causing structural distortions or instabilities.\n",
    "- to equilibrate the kinetic energy distribution among the particles, ensuring a stable temperature before proceeding to subsequent simulation steps."
   ]
  },
  {
   "cell_type": "code",
   "execution_count": null,
   "id": "a4713b2eec69d1d6",
   "metadata": {
    "collapsed": false
   },
   "outputs": [],
   "source": [
    "NVT_MDP = Path(GROMACS_PATH) / \"nvt.mdp\"\n",
    "NVT_NN = f\"{PROTEIN_PDB.stem}_NVT\"\n",
    "NVT_TPR = Path(f\"{NVT_NN}.tpr\")\n",
    "!cd {WD} && gmx grompp -v -f {NVT_MDP} -c {SOLVATED_GRO} -p {PROTEIN_TOP} -r {SOLVATED_GRO} -o {NVT_TPR}\n",
    "!cd {WD} && gmx mdrun -v -deffnm {NVT_NN} -s {NVT_TPR} -gpu_id 0"
   ]
  },
  {
   "cell_type": "code",
   "outputs": [],
   "source": [
    "NVT_EDR = Path(f\"{NVT_NN}.edr\")\n",
    "NVT_XVG = Path(f\"{NVT_NN}.xvg\")\n",
    "!cd {WD} && echo \"Temperature\" | gmx energy -f {NVT_EDR} -o {NVT_XVG} -xvg none -b 20\n",
    "\n",
    "fig, ax = plt.subplots(figsize=(3, 3))\n",
    "df = pd.read_csv(WD / NVT_XVG, sep='\\s+', header=None, names=['time', 'temperature'])\n",
    "plt.plot(df[\"time\"], df[\"temperature\"], color=\"black\")\n",
    "plt.axhline(y=300, color='black', linestyle='--', linewidth=0.8)\n",
    "plt.xlabel(\"time (ps)\")\n",
    "plt.ylabel(\"temperature (K)\")\n",
    "plt.grid(False)\n",
    "plt.show()"
   ],
   "metadata": {
    "collapsed": false
   },
   "id": "4dd292de2ec31b90",
   "execution_count": null
  },
  {
   "cell_type": "markdown",
   "id": "ea7bfdcdc3f895f0",
   "metadata": {
    "collapsed": false
   },
   "source": [
    "## Equilibration - Pressure\n",
    "\n",
    "NPT (constant Number of particles, Pressure, and Temperature) equilibration allows the system to adjust its volume to achieve the target temperature and pressure."
   ]
  },
  {
   "cell_type": "code",
   "execution_count": null,
   "id": "41c17fa019875dda",
   "metadata": {
    "collapsed": false
   },
   "outputs": [],
   "source": [
    "NPT_MDP = Path(GROMACS_PATH) / \"npt.mdp\"\n",
    "NVT_GRO = Path(f\"{NVT_NN}.gro\")\n",
    "NVT_CPT = Path(f\"{NVT_NN}.cpt\")\n",
    "NPT_NN = f\"{PROTEIN_PDB.stem}_NPT\"\n",
    "NPT_TPR = Path(f\"{NPT_NN}.tpr\")\n",
    "!cd {WD} && gmx grompp -v -f {NPT_MDP} -c {NVT_GRO} -t {NVT_CPT} -p {PROTEIN_TOP} -o {NPT_TPR}\n",
    "!cd {WD} && gmx mdrun -v -deffnm {NPT_NN} -s {NPT_TPR} -gpu_id 0"
   ]
  },
  {
   "cell_type": "code",
   "outputs": [],
   "source": [
    "NPT_EDR = Path(f\"{NPT_NN}.edr\")\n",
    "NPT_XVG = Path(f\"{NPT_NN}.xvg\")\n",
    "!cd {WD} && echo \"Pressure\" | gmx energy -f {NPT_EDR} -o {NPT_XVG} -xvg none\n",
    "\n",
    "fig, ax = plt.subplots(figsize=(3, 3))\n",
    "df = pd.read_csv(WD / NPT_XVG, sep='\\s+', header=None, names=['time', 'pressure'])\n",
    "df['pressure_avg'] = df['pressure'].rolling(window=5).mean()\n",
    "plt.plot(df[\"time\"], df[\"pressure\"], color=\"black\", label='10-ps avg')\n",
    "plt.plot(df[\"time\"], df[\"pressure_avg\"], color=\"red\", linestyle='-', label='50-ps avg')\n",
    "plt.axhline(y=1, color='black', linestyle='--', linewidth=0.8)\n",
    "plt.xlabel(\"time (ps)\")\n",
    "plt.ylabel(\"pressure (bar)\")\n",
    "plt.legend(loc=\"lower right\")\n",
    "plt.grid(False)\n",
    "plt.show()"
   ],
   "metadata": {
    "collapsed": false
   },
   "id": "6f0fe50fb0855f69",
   "execution_count": null
  },
  {
   "cell_type": "code",
   "outputs": [],
   "source": [
    "NPT_EDR = Path(f\"{NPT_NN}.edr\")\n",
    "NPT_XVG = Path(f\"{NPT_NN}_dens.xvg\")\n",
    "!cd {WD} && echo \"Density\" | gmx energy -f {NPT_EDR} -o {NPT_XVG} -xvg none\n",
    "\n",
    "fig, ax = plt.subplots(figsize=(3, 3))\n",
    "df = pd.read_csv(WD / NPT_XVG, sep='\\s+', header=None, names=['time', 'density'])\n",
    "df['density_avg'] = df['density'].rolling(window=5).mean()\n",
    "plt.plot(df[\"time\"], df[\"density\"], color=\"black\", label='10-ps avg')\n",
    "plt.plot(df[\"time\"], df[\"density_avg\"], color=\"red\", linestyle='-', label='50-ps avg')\n",
    "plt.xlabel(\"time (ps)\")\n",
    "plt.ylabel(\"density (kg/m$^{3}$)\")\n",
    "plt.ylim((990, 1060))\n",
    "plt.legend(loc=\"lower right\")\n",
    "plt.grid(False)\n",
    "plt.show()"
   ],
   "metadata": {
    "collapsed": false
   },
   "id": "815d3aa691ba08be",
   "execution_count": null
  },
  {
   "cell_type": "markdown",
   "id": "93162ab90bee6107",
   "metadata": {
    "collapsed": false
   },
   "source": [
    "## Production\n",
    "\n",
    "Perform a production simulation under NPT conditions to gather dynamic data about the system.\n",
    "The goal is to simulate the behavior of the solvated and neutralized protein in an environment that mimics physiological conditions.\n",
    "\n",
    "This phase collects detailed molecular dynamics data on the behavior of the protein and its surrounding solvent molecules under conditions that closely mimic a natural, physiological environment.\n",
    "\n",
    "Running the simulation under constant pressure and temperature ensures that the system's volume can adjust dynamically, providing a more realistic representation of biological conditions.\n",
    "\n",
    "The data obtained from this production run can be used to analyze various aspects of the protein's behavior, such as conformational changes, stability, interactions with solvent molecules, and other dynamic properties."
   ]
  },
  {
   "cell_type": "code",
   "execution_count": null,
   "id": "98c66ecae452100",
   "metadata": {
    "collapsed": false
   },
   "outputs": [],
   "source": [
    "PROD_MDP = Path(GROMACS_PATH) / \"prod.mdp\"\n",
    "NPT_GRO = Path(f\"{NPT_NN}.gro\")\n",
    "NPT_CPT = Path(f\"{NPT_NN}.cpt\")\n",
    "PROD_NN = f\"{PROTEIN_PDB.stem}_PROD\"\n",
    "PROD_TPR = Path(f\"{PROD_NN}.tpr\")\n",
    "!cd {WD} && gmx grompp -v -f {PROD_MDP} -c {NPT_GRO} -t {NPT_CPT} -p {PROTEIN_TOP} -o {PROD_TPR}\n",
    "!cd {WD} && gmx mdrun -v -deffnm {PROD_NN} -s {PROD_TPR} -gpu_id 0"
   ]
  },
  {
   "cell_type": "code",
   "outputs": [],
   "source": [
    "!rm -rf {WD}/charmm36-nov2016.ff"
   ],
   "metadata": {
    "collapsed": false
   },
   "id": "fa0514e20641b05d",
   "execution_count": null
  },
  {
   "cell_type": "markdown",
   "source": [
    "Now, convert some trajectories to PDB for subsequent analysis (ie. phylogenetic tree confidence)."
   ],
   "metadata": {
    "collapsed": false
   },
   "id": "8591927ddde6fc38"
  },
  {
   "cell_type": "code",
   "outputs": [],
   "source": [
    "!cd {WD} && gmx check -f {NPT_NN}.xtc"
   ],
   "metadata": {
    "collapsed": false
   },
   "id": "61352235952e76ac",
   "execution_count": null
  },
  {
   "cell_type": "code",
   "outputs": [],
   "source": [
    "MAX_TIME = 200  # You can get this from the previous command.\n",
    "os.mkdir(WD / \"trajectories\")\n",
    "for i, t in enumerate(range(0, MAX_TIME, 10)):\n",
    "    !cd {WD} && echo \"Protein\" | gmx trjconv -s {PROD_TPR} -f {PROD_NN}.xtc -o trajectories/trj{i}.pdb -dump {t}"
   ],
   "metadata": {
    "collapsed": false
   },
   "id": "5be3e16e720ff204",
   "execution_count": null
  },
  {
   "cell_type": "markdown",
   "id": "8b346e82c58da481",
   "metadata": {
    "collapsed": false
   },
   "source": [
    "## Stability Evaluation"
   ]
  },
  {
   "cell_type": "markdown",
   "source": [
    "### RMSD\n",
    "\n",
    "Calculate the Root Mean Square Deviation (RMSD) of a molecular dynamics trajectory. \n",
    "RMSD measures the average deviation of a set of atomic positions from a reference structure, which is the initial structure. \n",
    "\n",
    "Here, we only calculate RMSD for Backbone (group 4).\n",
    "\n",
    "1. **Low RMSD Values (0.1 - 0.3 nm or 1 - 3 $\\mathring{\\text{A}}$)**: The protein structure is very stable.\n",
    "\n",
    "2. **Moderate RMSD Values (0.3 - 0.5 nm or 3 - 5 $\\mathring{\\text{A}}$)**: The protein structure is reasonably stable with some flexibility.\n",
    "\n",
    "3. **High RMSD Values (>0.5 nm or >5 $\\mathring{\\text{A}}$)**: The protein structure may be unstable.\n",
    "\n",
    "Regardless of the absolute RMSD value, a key indicator of stability is how the RMSD evolves over time. \n",
    "A stable protein will show an initial rise in RMSD as it equilibrates and then plateau, indicating it has reached a stable conformation.\n",
    " Once the RMSD reaches a steady state and fluctuates within a narrow range, the protein can be considered stable. \n",
    " The exact RMSD value at the plateau will depend on the protein and the simulation conditions."
   ],
   "metadata": {
    "collapsed": false
   },
   "id": "ae49400e6f6def88"
  },
  {
   "cell_type": "code",
   "execution_count": null,
   "id": "6e0eac4bb6ef8993",
   "metadata": {
    "collapsed": false
   },
   "outputs": [],
   "source": [
    "PROD_XTC = Path(f\"{PROD_NN}.xtc\")\n",
    "RMSD_OUT_XVG = Path(\"RMSD.xvg\")\n",
    "!cd {WD} && echo \"4 4\" | gmx rms -s {PROD_TPR} -f {PROD_XTC} -o {RMSD_OUT_XVG} -tu ns"
   ]
  },
  {
   "cell_type": "code",
   "execution_count": null,
   "id": "50587ed123232315",
   "metadata": {
    "collapsed": false
   },
   "outputs": [],
   "source": [
    "def read_xvg(file_path, columns):\n",
    "    data = []\n",
    "    with open(file_path, 'r') as file:\n",
    "        for line in file:\n",
    "            if not line.startswith(('@', '#')):  # Skip header lines\n",
    "                data.append([float(x) for x in line.split()])\n",
    "    return pd.DataFrame(data, columns=columns)"
   ]
  },
  {
   "cell_type": "code",
   "execution_count": null,
   "id": "4c146dca674fd5b4",
   "metadata": {
    "collapsed": false
   },
   "outputs": [],
   "source": [
    "rmsd_df_columns = [\"Time (ns)\", \"RMSD (nm)\"]\n",
    "rmsd_df = read_xvg(WD / RMSD_OUT_XVG, columns=rmsd_df_columns)\n",
    "plt.figure(figsize=(3, 3))\n",
    "plt.plot(rmsd_df[rmsd_df_columns[0]], rmsd_df[rmsd_df_columns[1]], label='RMSD', color=\"black\")\n",
    "plt.plot(rmsd_df[rmsd_df_columns[0]],\n",
    "         rmsd_df[rmsd_df_columns[1]].rolling(window=200).mean(),\n",
    "         label='0.1-ns avg', color=\"red\")\n",
    "plt.xlabel(rmsd_df_columns[0])\n",
    "plt.ylabel(rmsd_df_columns[1])\n",
    "plt.title('RMSD')\n",
    "plt.grid(False)\n",
    "plt.legend()\n",
    "plt.show()\n",
    "print(f\"{np.mean(rmsd_df[rmsd_df_columns[1]])} pm {np.std(rmsd_df[rmsd_df_columns[1]])}\")"
   ]
  },
  {
   "cell_type": "markdown",
   "id": "e5caa7ad99203522",
   "metadata": {
    "collapsed": false
   },
   "source": [
    "### RMSF\n",
    "\n",
    "Calculate the Root Mean Square Fluctuation (RMSF) of the atoms or residues in a molecular dynamics (MD) simulation.\n",
    "\n",
    "By calculating RMSF, wecan identify which parts of the protein (or other macromolecule) are more flexible or dynamic. Regions with high RMSF values are more flexible, whereas regions with low RMSF values are more rigid.\n",
    "\n",
    "The formula for RMSF is:\n",
    "$$\n",
    "\\text{RMSF}(i) = \\sqrt{\\frac{1}{N} \\sum_{t=1}^{N} (r_i(t) - \\langle r_i \\rangle)^2}\n",
    "$$\n",
    "\n",
    "1. **Low RMSF Values**: Regions of the protein with low RMSF values are relatively stable and do not deviate much from their average positions. These stable regions often correspond to secondary structures like alpha-helices and beta-sheets, which maintain their conformation throughout the simulation.\n",
    "\n",
    "2. **High RMSF Values**: High RMSF values indicate flexible or dynamic regions that move significantly during the simulation. These regions can correspond to loops, termini, or other flexible parts of the protein."
   ]
  },
  {
   "cell_type": "code",
   "execution_count": null,
   "id": "bb554e1ddced37c7",
   "metadata": {
    "collapsed": false
   },
   "outputs": [],
   "source": [
    "RMSF_OUT_XVG = Path(\"RMSF.xvg\")\n",
    "!cd {WD} && echo \"4\" | gmx rmsf -s {PROD_TPR} -f {PROD_XTC} -o {RMSF_OUT_XVG} -res"
   ]
  },
  {
   "cell_type": "code",
   "execution_count": null,
   "id": "789f4437f23c6933",
   "metadata": {
    "collapsed": false
   },
   "outputs": [],
   "source": [
    "rmsf_df_columns = [\"Residue\", \"RMSF (nm)\"]\n",
    "rmsf_df = read_xvg(WD / RMSF_OUT_XVG, columns=rmsf_df_columns)\n",
    "plt.figure(figsize=(3, 3))\n",
    "plt.plot(rmsf_df[rmsf_df_columns[0]], rmsf_df[rmsf_df_columns[1]], label='RMSF', color=\"black\")\n",
    "plt.axhline(y=np.mean(rmsf_df[rmsf_df_columns[1]]), color=\"red\", label=\"avg\", linestyle=\"--\")\n",
    "plt.xlabel(rmsf_df_columns[0])\n",
    "plt.ylabel(rmsf_df_columns[1])\n",
    "plt.legend()\n",
    "plt.title('RMSF')\n",
    "plt.grid(False)\n",
    "plt.show()\n",
    "print(f\"{np.mean(rmsf_df[rmsf_df_columns[1]])} pm {np.std(rmsf_df[rmsf_df_columns[1]])}\")"
   ]
  },
  {
   "cell_type": "markdown",
   "id": "5e481b250f01fabf",
   "metadata": {
    "collapsed": false
   },
   "source": [
    "### Radius of Gyration, Rg\n",
    "\n",
    "Calculate the radius of gyration of a molecule throughout the MD simulation. The radius of gyration is a measure of the distribution of the mass of the molecule around its center of mass. A stable Rg value indicates that the protein is maintaining its overall shape and not unfolding or collapsing."
   ]
  },
  {
   "cell_type": "code",
   "execution_count": null,
   "id": "31e024e290db41de",
   "metadata": {
    "collapsed": false
   },
   "outputs": [],
   "source": [
    "RG_OUT_XVG = Path(\"RG.xvg\")\n",
    "!cd {WD} && echo \"4\" | gmx gyrate -s {PROD_TPR} -f {PROD_XTC} -o {RG_OUT_XVG}"
   ]
  },
  {
   "cell_type": "code",
   "execution_count": null,
   "id": "93d63c7f4426e59d",
   "metadata": {
    "collapsed": false
   },
   "outputs": [],
   "source": [
    "rg_df_columns = [\"Time (ps)\", \"$R_g$\", \"$R_g$/sX/N\", \"$R_g$/sY/N\", \"$R_g$/sZ/N\"]\n",
    "rg_df = read_xvg(WD / RG_OUT_XVG, columns=rg_df_columns)\n",
    "plt.figure(figsize=(3, 3))\n",
    "for i in range(1, len(rg_df_columns)):\n",
    "    plt.plot(rg_df[rg_df_columns[0]], rg_df[rg_df_columns[i]], label=rg_df_columns[i])\n",
    "    print(f\"{np.mean(rg_df[rg_df_columns[i]])} pm {np.std(rg_df[rg_df_columns[i]])}\")\n",
    "    # plt.plot(rg_df[rg_df_columns[0]], \n",
    "    #          rg_df[rg_df_columns[i]].rolling(window=200).mean())\n",
    "plt.xlabel('Time (ps)')\n",
    "plt.ylabel('Radius (nm)')\n",
    "plt.title('$R_g$')\n",
    "# plt.legend(loc='right', bbox_to_anchor=(1.52, 0.5))\n",
    "plt.legend(loc='lower right')\n",
    "plt.grid(False)\n",
    "# plt.ylim((0, 1.5))\n",
    "plt.show()"
   ]
  },
  {
   "cell_type": "markdown",
   "id": "bdef80ddd58812cc",
   "metadata": {
    "collapsed": false
   },
   "source": [
    "### Secondary Structure Count\n",
    "\n",
    "Track changes in its secondary structure elements, such as alpha-helices and beta-sheets. How the overall secondary structure composition of the protein changes during the simulation?\n",
    "   \n",
    "If the number of residues in helices, sheets, or other structures remains relatively constant, it indicates structural stability."
   ]
  },
  {
   "cell_type": "code",
   "execution_count": null,
   "id": "bafc086b34035617",
   "metadata": {
    "collapsed": false
   },
   "outputs": [],
   "source": [
    "DSSP_OUT_XVG = Path(\"DSSP.xvg\")\n",
    "!cd {WD} && gmx dssp -s {PROD_TPR} -f {PROD_XTC} -o {DSSP_OUT_XVG.stem}.dat -num {DSSP_OUT_XVG}"
   ]
  },
  {
   "cell_type": "code",
   "execution_count": null,
   "id": "b6f40b1216029b1d",
   "metadata": {
    "collapsed": false
   },
   "outputs": [],
   "source": [
    "dssp_df_columns = [\"Time (ps)\", \"Loops\", \"Breaks\", \"Bends\", \"Turns\", \"PP_Helices\", \"$\\\\pi$-Helices\", \"$3_{10}$-Helices\",\n",
    "                   \"$\\\\beta$-Strands\", \"$\\\\beta$-Bridges\", \"$\\\\alpha$-Helices\"]\n",
    "dssp_df = read_xvg(WD / DSSP_OUT_XVG, columns=dssp_df_columns)\n",
    "plt.figure(figsize=(3, 3))\n",
    "for i in range(1, len(dssp_df_columns)):\n",
    "    plt.plot(dssp_df[dssp_df_columns[0]], dssp_df[dssp_df_columns[i]], label=dssp_df_columns[i])\n",
    "    print(f\"{np.mean(dssp_df[dssp_df_columns[i]])} pm {np.std(dssp_df[dssp_df_columns[i]])}\")\n",
    "plt.xlabel('Time (ps)')\n",
    "plt.ylabel('Secondary Structures Count')\n",
    "plt.title('Secondary Structure')\n",
    "plt.legend(loc='right', bbox_to_anchor=(1.6, 0.5))\n",
    "plt.grid(False)\n",
    "plt.show()"
   ]
  },
  {
   "cell_type": "markdown",
   "source": [
    "### Energy Analysis"
   ],
   "metadata": {
    "collapsed": false
   },
   "id": "311654529610dbce"
  },
  {
   "cell_type": "code",
   "outputs": [],
   "source": [
    "PROD_EDR = Path(f\"{PROD_NN}.edr\")"
   ],
   "metadata": {
    "collapsed": false
   },
   "id": "db813a8712b5efda",
   "execution_count": null
  },
  {
   "cell_type": "code",
   "outputs": [],
   "source": [
    "TOTAL_ENERGY_XVG = Path(f\"{PROD_NN}_total_energy.xvg\")\n",
    "!cd {WD} && echo \"Total-Energy\" | gmx energy -f {PROD_EDR} -o {TOTAL_ENERGY_XVG} -xvg none\n",
    "\n",
    "POTENTIAL_ENERGY_XVG = Path(f\"{PROD_NN}_potential_energy.xvg\")\n",
    "!cd {WD} && echo \"Potential\" | gmx energy -f {PROD_EDR} -o {POTENTIAL_ENERGY_XVG} -xvg none\n",
    "\n",
    "KINETIC_ENERGY_XVG = Path(f\"{PROD_NN}_kinetic_energy.xvg\")\n",
    "!cd {WD} && echo \"Kinetic-En.\" | gmx energy -f {PROD_EDR} -o {KINETIC_ENERGY_XVG} -xvg none"
   ],
   "metadata": {
    "collapsed": false
   },
   "id": "40f8b06055829565",
   "execution_count": null
  },
  {
   "cell_type": "code",
   "outputs": [],
   "source": [
    "tot_en_df = pd.read_csv(WD / TOTAL_ENERGY_XVG, sep='\\s+', header=None, names=['step', 'Total-Energy'])\n",
    "pot_en_df = pd.read_csv(WD / POTENTIAL_ENERGY_XVG, sep='\\s+', header=None, names=['step', 'Potential-Energy'])\n",
    "ktc_en_df = pd.read_csv(WD / KINETIC_ENERGY_XVG, sep='\\s+', header=None, names=['step', 'Kinetic-Energy'])\n",
    "\n",
    "\n",
    "print(f\"{np.mean(tot_en_df['Total-Energy'])} pm {np.std(tot_en_df['Total-Energy'])}\")\n",
    "print(f\"{np.mean(pot_en_df['Potential-Energy'])} pm {np.std(pot_en_df['Potential-Energy'])}\")\n",
    "print(f\"{np.mean(ktc_en_df['Kinetic-Energy'])} pm {np.std(ktc_en_df['Kinetic-Energy'])}\")\n",
    "\n",
    "fig, ax = plt.subplots(figsize=(3, 3))\n",
    "plt.plot(tot_en_df[\"step\"], tot_en_df[\"Total-Energy\"], label=\"total energy\")\n",
    "plt.plot(pot_en_df[\"step\"], pot_en_df[\"Potential-Energy\"], label=\"potential energy\")\n",
    "plt.plot(ktc_en_df[\"step\"], ktc_en_df[\"Kinetic-Energy\"], label=\"kinetic energy\")\n",
    "plt.xlabel(\"time (ps)\")\n",
    "plt.ylabel(\"energy (kJ/mol)\")\n",
    "plt.legend()\n",
    "ax.yaxis.set_major_formatter(ScalarFormatter(useMathText=True))\n",
    "ax.ticklabel_format(style='sci', axis='y', scilimits=(0, 0))\n",
    "plt.grid(False)\n",
    "plt.title(\"Energy\")\n",
    "plt.show()"
   ],
   "metadata": {
    "collapsed": false
   },
   "id": "b8c127f9f7be6651",
   "execution_count": null
  },
  {
   "cell_type": "markdown",
   "id": "7a4bd3d411732c67",
   "metadata": {
    "collapsed": false
   },
   "source": [
    "### Contact Map (Deperated)\n",
    "\n",
    "A contact map is a 2D matrix where each cell (i, j) represents the contact (usually within a certain distance threshold, like 0.5 nm) between residue i and residue j over the course of the simulation. A high value in a cell indicates frequent contacts between those residues.\n",
    "\n",
    "**Consistency of Contacts**:\n",
    "- **Stable Regions**: Residues that maintain consistent contacts throughout the simulation indicate stable regions of the protein. In the contact map, these appear as persistent spots or clusters of high values.\n",
    "- **Unstable Regions**: Regions where contacts are inconsistent or transient indicate flexible or unstable parts of the protein. These regions will show as dispersed or low-value spots in the contact map."
   ]
  },
  {
   "cell_type": "code",
   "execution_count": null,
   "id": "c83fab33debcdd46",
   "metadata": {
    "collapsed": false
   },
   "outputs": [],
   "source": [
    "# CONTACT_XVG = Path(\"CONTACT.xvg\")\n",
    "# CONTACT_XPM = Path(f\"{CONTACT_XVG.stem}.xpm\")\n",
    "# !cd {WD} && echo \"4\" | gmx mdmat -s {PROD_TPR} -f {PROD_XTC} -mean {CONTACT_XPM} -no {CONTACT_XVG}"
   ]
  },
  {
   "cell_type": "code",
   "execution_count": null,
   "id": "936bcff829c61f3c",
   "metadata": {
    "collapsed": false
   },
   "outputs": [],
   "source": [
    "# !cd {WD} && gmx xpm2ps -f {CONTACT_XPM} -o {CONTACT_XPM.stem}.eps\n",
    "# import matplotlib.image as mpimg\n",
    "# \n",
    "# img = mpimg.imread(WD / f\"{CONTACT_XPM.stem}.eps\")\n",
    "# \n",
    "# plt.figure(figsize=(2, 2), dpi=300)\n",
    "# plt.imshow(img)\n",
    "# plt.axis('off')\n",
    "# plt.show()"
   ]
  },
  {
   "cell_type": "code",
   "outputs": [],
   "source": [],
   "metadata": {
    "collapsed": false
   },
   "id": "f70a7ecd728b8540",
   "execution_count": null
  }
 ],
 "metadata": {
  "kernelspec": {
   "display_name": "Python 3 (ipykernel)",
   "language": "python",
   "name": "python3"
  },
  "language_info": {
   "codemirror_mode": {
    "name": "ipython",
    "version": 3
   },
   "file_extension": ".py",
   "mimetype": "text/x-python",
   "name": "python",
   "nbconvert_exporter": "python",
   "pygments_lexer": "ipython3",
   "version": "3.10.13"
  }
 },
 "nbformat": 4,
 "nbformat_minor": 5
}
