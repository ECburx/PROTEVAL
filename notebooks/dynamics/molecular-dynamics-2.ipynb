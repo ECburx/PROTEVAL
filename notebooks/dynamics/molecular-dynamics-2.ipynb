{
 "cells": [
  {
   "cell_type": "markdown",
   "source": [
    "# Molecular Dynamics: Protein-Ligand\n",
    "\n",
    "Before continue, you should have:\n",
    "\n",
    "- installed GROMACS\n",
    "- put CHARMM36 force field in the correct location"
   ],
   "metadata": {
    "collapsed": false
   },
   "id": "6548047c969c0a83"
  },
  {
   "cell_type": "code",
   "execution_count": null,
   "id": "initial_id",
   "metadata": {
    "collapsed": true
   },
   "outputs": [],
   "source": [
    "import os\n",
    "\n",
    "os.environ['PATH'] = '/usr/local/gromacs/bin:' + os.environ['PATH']"
   ]
  },
  {
   "cell_type": "code",
   "outputs": [],
   "source": [
    "from pathlib import Path\n",
    "from matplotlib.ticker import ScalarFormatter\n",
    "import pandas as pd\n",
    "from matplotlib import pyplot as plt"
   ],
   "metadata": {
    "collapsed": false
   },
   "id": "63ee61dd62c10369",
   "execution_count": null
  },
  {
   "cell_type": "code",
   "outputs": [],
   "source": [
    "PROTEIN_CLS = \"RAS\"\n",
    "PROTEIN_SID = \"SM27\"\n",
    "LIGAND_ID = \"GDP\"\n",
    "COMPLEX_ID = f\"{PROTEIN_SID}-{LIGAND_ID}\"\n",
    "\n",
    "# Create a new working directory!\n",
    "WD = Path(f\"wd-md2/{PROTEIN_CLS}/{COMPLEX_ID}\")\n",
    "WD.mkdir(parents=True, exist_ok=True)\n",
    "\n",
    "# TOOLS: Change the path accordingly\n",
    "GROMACS_PATH = \"~/WS/ProtMatch/gromacs\""
   ],
   "metadata": {
    "collapsed": false
   },
   "id": "5cbddd5844d06a34",
   "execution_count": null
  },
  {
   "cell_type": "markdown",
   "source": [
    "We then need to prepare the protein topology and the ligand topology separately.\n",
    "\n",
    "1. If you start with a PDB file of a complex, you may want to strip out the crystal waters and unwanted ligands."
   ],
   "metadata": {
    "collapsed": false
   },
   "id": "15872828bcc1b7b6"
  },
  {
   "cell_type": "code",
   "outputs": [],
   "source": [
    "# COMPLEX_PDB = Path(f\"../data/{PROTEIN_CLS}/complex/{COMPLEX_ID}.pdb\")\n",
    "# !cp {COMPLEX_PDB} {WD}/{COMPLEX_PDB.name}\n",
    "# COMPLEX_PDB = Path(COMPLEX_PDB.name)\n",
    "# \n",
    "# LIGAND_PDB = Path(f\"{LIGAND_ID}.pdb\")\n",
    "# PROTEIN_PDB = Path(f\"{PROTEIN_SID}.pdb\")\n",
    "# \n",
    "# # ligand\n",
    "# !cd {WD} && grep {LIGAND_ID} {COMPLEX_PDB} > {LIGAND_PDB}\n",
    "# # protein\n",
    "# !cd {WD} && grep -v HETATM {COMPLEX_PDB} > {PROTEIN_PDB}.tmp\n",
    "# !cd {WD} && grep -v CONECT {PROTEIN_PDB}.tmp > {PROTEIN_PDB}\n",
    "# !cd {WD} && rm -f {PROTEIN_PDB}.tmp\n",
    "# \n",
    "# del COMPLEX_PDB"
   ],
   "metadata": {
    "collapsed": false
   },
   "id": "2c07fdab9d6a523b",
   "execution_count": null
  },
  {
   "cell_type": "markdown",
   "source": [
    "2. Or you have already prepared seperated PDB files for protein and its ligand, just specify the paths.\n",
    "\n",
    "    If you are simulating generated structures, make sure you have\n",
    "    - predicted the sequence of the generated structure\n",
    "    - modelled and added side chains to the structure"
   ],
   "metadata": {
    "collapsed": false
   },
   "id": "a88d0f69f48bc6e1"
  },
  {
   "cell_type": "code",
   "outputs": [],
   "source": [
    "PROTEIN_PDB = f\"{PROTEIN_SID}.pdb\""
   ],
   "metadata": {
    "collapsed": false
   },
   "id": "466c5579a8860bf1",
   "execution_count": null
  },
  {
   "cell_type": "markdown",
   "source": [
    "## Protein Topology with CHARMM36 Force Field"
   ],
   "metadata": {
    "collapsed": false
   },
   "id": "6055005d7fcce519"
  },
  {
   "cell_type": "code",
   "outputs": [],
   "source": [
    "PROTEIN_GRO = Path(f\"{PROTEIN_SID}.gro\")\n",
    "PROTEIN_TOP = Path(f\"{PROTEIN_SID}.top\")\n",
    "FF_PATH = Path(\"../../gromacs/charmm36-jul2022.ff\")\n",
    "!cp -r {FF_PATH} {WD}\n",
    "!cd {WD} && gmx pdb2gmx -f {PROTEIN_PDB} -o {PROTEIN_GRO} -p {PROTEIN_TOP} -water tip3p -ff charmm36-jul2022 -ignh\n",
    "# Any errors check https://manual.gromacs.org/2021.4/user-guide/run-time-errors.html.\n",
    "# If a fatal error occurred due to H, this atom may not defined in the FF.\n",
    "# Consider to remove this atom from PDB, or (not recommended) ignore hydrogen atoms with `-ignh`.\n",
    "# If atom C1 not found in buiding block 1MET while combining tdb and rtp, you may need `-ter`.\n",
    "# Check more at https://gromacs.bioexcel.eu/t/newest-charmm36-port-for-gromacs/868/11."
   ],
   "metadata": {
    "collapsed": false
   },
   "id": "ec366ca62ea9cca7",
   "execution_count": null
  },
  {
   "cell_type": "markdown",
   "source": [
    "You may want to move the protein and its ligand(s) to the origin before continue.\n",
    "\n",
    "## Ligand Topology\n",
    "\n",
    "Refer to http://www.mdtutorials.com/gmx/complex/.\n",
    "\n",
    "1. Add hydrogen atoms and convert <ligand>.sdf to <ligand>.mol2, using tools like openbabel or Avogadro.\n",
    "2. Fix the residue names and numbers.\n",
    "   Use sort_mol2_bonds.pl (http://www.mdtutorials.com/gmx/complex/Files/sort_mol2_bonds.pl) to sort bonds in ascending order.\n",
    "3. Generate the ligand topology with the CGenFF server. [https://app.cgenff.com/homepage]\n",
    "   CGenFF server will return a topology in the form of a CHARMM \"stream\" file (.str).\n",
    "   Save its contents into a file called <ligand>.str.\n",
    "4. Convert CHARMM stream file to GROMACS format.\n",
    "   https://github.com/Lemkul-Lab/cgenff_charmm2gmx\n",
    "   (You may need python 3.5 to run this script)"
   ],
   "metadata": {
    "collapsed": false
   },
   "id": "dc1b5e0539ed932b"
  },
  {
   "cell_type": "code",
   "outputs": [],
   "source": [
    "SORTMOL2 = \"../../gromacs/sort_mol2_bonds.pl\"\n",
    "!cp {SORTMOL2} {WD}\n",
    "! cd {WD} && perl sort_mol2_bonds.pl {LIGAND_ID}.mol2 {LIGAND_ID}.fix.mol2"
   ],
   "metadata": {
    "collapsed": false
   },
   "id": "2aa878ec05411e08",
   "execution_count": null
  },
  {
   "cell_type": "code",
   "outputs": [],
   "source": [
    "CHARMM2GMX = \"../../gromacs/cgenff_charmm2gmx_py3_nx2.py\"\n",
    "!cp {CHARMM2GMX} {WD}\n",
    "# In working directory, run the following\n",
    "# python cgenff_charmm2gmx_py3_nx2.py GDP GDP.mol2 GDP.str charmm36-jul2022.ff"
   ],
   "metadata": {
    "collapsed": false
   },
   "id": "f65a764bbbf0aa79",
   "execution_count": null
  },
  {
   "cell_type": "markdown",
   "source": [
    "## Build the Complex"
   ],
   "metadata": {
    "collapsed": false
   },
   "id": "369c9fe25c86c410"
  },
  {
   "cell_type": "code",
   "outputs": [],
   "source": [
    "LIGAND_GRO = f\"{LIGAND_ID}.gro\"\n",
    "# change *_ini.pdb accordingly\n",
    "!cd {WD} && gmx editconf -f {LIGAND_ID.lower()}_ini.pdb -o {LIGAND_GRO}"
   ],
   "metadata": {
    "collapsed": false
   },
   "id": "2e1905935d312cc1",
   "execution_count": null
  },
  {
   "cell_type": "code",
   "outputs": [],
   "source": [
    "COMPLEX_GRO = \"complex.gro\"\n",
    "!cd {WD} && cp {PROTEIN_GRO} complex.gro"
   ],
   "metadata": {
    "collapsed": false
   },
   "id": "245cee07a7316031",
   "execution_count": null
  },
  {
   "cell_type": "markdown",
   "source": [
    "(see more in http://www.mdtutorials.com/gmx/complex/02_topology.html)\n",
    "1. Copy <protein>.gro to a new file complex.gro\n",
    "2. Copy the coordinate section of <ligand>.gro and paste it into complex.gro\n",
    "3. Increment the second line of complex.gro to reflect this change."
   ],
   "metadata": {
    "collapsed": false
   },
   "id": "5d52054d3263afcc"
  },
  {
   "cell_type": "markdown",
   "source": [
    "## Build the Topology\n",
    "1. Insert line `#include \"<ligand>.itp\"` into <protein>.top after the position restraint file is included.\n",
    "\n",
    "   ```\n",
    "   ; Include Position restraint file\n",
    "    #ifdef POSRES\n",
    "    #include \"posre.itp\"\n",
    "    #endif\n",
    "    \n",
    "    ; Include ligand topology <-- ADD\n",
    "    #include \"<ligand>.itp\" <-- ADD\n",
    "    \n",
    "    ; Include water topology\n",
    "    #include \"./charmm36-jul2022.ff/tip3p.itp\"\n",
    "    ```\n",
    "   \n",
    "2. At the TOP of <protein>.top, insert an #include statement to add these parameters:\n",
    "\n",
    "   ```\n",
    "   ; Include forcefield parameters\n",
    "    #include \"./charmm36-jul2022.ff/forcefield.itp\"\n",
    "    \n",
    "    ; Include ligand parameters <-- ADD\n",
    "    #include \"<ligand>.prm\" <-- ADD\n",
    "    \n",
    "    [ moleculetype ]\n",
    "    ; Name            nrexcl\n",
    "    Protein_chain_A     3\n",
    "   ```\n",
    "\n",
    "3. At the END of <protein>.top, insert\n",
    "\n",
    "   ```\n",
    "   [ molecules ]\n",
    "   ; Compound        #mols\n",
    "   Protein_chain_A     1\n",
    "   GDP                 1 <-- ADD\n",
    "   ```"
   ],
   "metadata": {
    "collapsed": false
   },
   "id": "480f50b5ddbe99d"
  },
  {
   "cell_type": "markdown",
   "source": [
    "## Setting Up the Simulation Box and Solvating the System"
   ],
   "metadata": {
    "collapsed": false
   },
   "id": "b782660084718148"
  },
  {
   "cell_type": "code",
   "outputs": [],
   "source": [
    "BOX_GRO = \"box.gro\"\n",
    "!cd {WD} && gmx editconf -f {COMPLEX_GRO} -o {BOX_GRO} -c -d 1.5 -bt octahedron"
   ],
   "metadata": {
    "collapsed": false
   },
   "id": "99ee5a77eab9240b",
   "execution_count": null
  },
  {
   "cell_type": "code",
   "outputs": [],
   "source": [
    "SOLV_GRO = \"solv.gro\"\n",
    "!cd {WD} && gmx solvate -cp {BOX_GRO} -cs spc216.gro -p {PROTEIN_TOP} -o {SOLV_GRO}"
   ],
   "metadata": {
    "collapsed": false
   },
   "id": "cab5707f0d47c6e5",
   "execution_count": null
  },
  {
   "cell_type": "markdown",
   "source": [
    "## Adding Ions"
   ],
   "metadata": {
    "collapsed": false
   },
   "id": "bb469f24f7fb9e70"
  },
  {
   "cell_type": "code",
   "outputs": [],
   "source": [
    "IONS_TPR = \"ions.tpr\"\n",
    "MIN_SD_MDP = Path(GROMACS_PATH) / \"min_sd.mdp\"\n",
    "!cd {WD} && gmx grompp -f {MIN_SD_MDP} -c {SOLV_GRO} -p {PROTEIN_TOP} -o {IONS_TPR} -maxwarn 1"
   ],
   "metadata": {
    "collapsed": false
   },
   "id": "66d5fcc4ee87a4c3",
   "execution_count": null
  },
  {
   "cell_type": "code",
   "outputs": [],
   "source": [
    "SOLV_IONS_GRO = \"solv_ions.gro\"\n",
    "!cd {WD} && echo SOL | gmx genion -s {IONS_TPR} -o {SOLV_IONS_GRO} -conc 0.15 -pname NA -nname CL -neutral -p {PROTEIN_TOP}"
   ],
   "metadata": {
    "collapsed": false
   },
   "id": "223c8d48f9289fd1",
   "execution_count": null
  },
  {
   "cell_type": "markdown",
   "source": [
    "## Energy Minimization"
   ],
   "metadata": {
    "collapsed": false
   },
   "id": "7e6cbd5e4421008b"
  },
  {
   "cell_type": "code",
   "outputs": [],
   "source": [
    "EM_TPR = \"em.tpr\"\n",
    "!cd {WD} && gmx grompp -v -f {MIN_SD_MDP} -c {SOLV_IONS_GRO} -p {PROTEIN_TOP} -o {EM_TPR}"
   ],
   "metadata": {
    "collapsed": false
   },
   "id": "bf2b4b0f1068705c",
   "execution_count": null
  },
  {
   "cell_type": "code",
   "outputs": [],
   "source": [
    "!cd {WD} && gmx mdrun -v -deffnm {Path(EM_TPR).stem} -c {SOLV_IONS_GRO} -gpu_id 0"
   ],
   "metadata": {
    "collapsed": false
   },
   "id": "7d393c79b725fa06",
   "execution_count": null
  },
  {
   "cell_type": "code",
   "outputs": [],
   "source": [
    "EM_EDR = \"em.edr\"\n",
    "EM_XVG = \"em.xvg\"\n",
    "!cd {WD} && echo \"11\" | gmx energy -f {EM_EDR} -o {EM_XVG} -xvg none\n",
    "\n",
    "fig, ax = plt.subplots(figsize=(3, 3))\n",
    "df = pd.read_csv(WD / EM_XVG, sep='\\s+', header=None, names=['step', 'energy'])\n",
    "plt.plot(df[\"step\"], df[\"energy\"], color=\"black\")\n",
    "plt.xlabel(\"step\")\n",
    "plt.ylabel(\"energy (kJ/mol)\")\n",
    "ax.yaxis.set_major_formatter(ScalarFormatter(useMathText=True))\n",
    "ax.ticklabel_format(style='sci', axis='y', scilimits=(0, 0))\n",
    "plt.grid(False)\n",
    "plt.show()"
   ],
   "metadata": {
    "collapsed": false
   },
   "id": "a6bc533574d94d4f",
   "execution_count": null
  },
  {
   "cell_type": "code",
   "outputs": [],
   "source": [],
   "metadata": {
    "collapsed": false
   },
   "id": "14dbdf3fa0079cda"
  }
 ],
 "metadata": {
  "kernelspec": {
   "display_name": "Python 3",
   "language": "python",
   "name": "python3"
  },
  "language_info": {
   "codemirror_mode": {
    "name": "ipython",
    "version": 2
   },
   "file_extension": ".py",
   "mimetype": "text/x-python",
   "name": "python",
   "nbconvert_exporter": "python",
   "pygments_lexer": "ipython2",
   "version": "2.7.6"
  }
 },
 "nbformat": 4,
 "nbformat_minor": 5
}
