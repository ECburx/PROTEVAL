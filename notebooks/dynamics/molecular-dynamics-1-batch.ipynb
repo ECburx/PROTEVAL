{
 "cells": [
  {
   "cell_type": "code",
   "execution_count": null,
   "id": "initial_id",
   "metadata": {
    "collapsed": true
   },
   "outputs": [],
   "source": [
    "from pathlib import Path\n",
    "\n",
    "PROTEIN_CLS = \"BLDB\"\n",
    "\n",
    "for i in range(18, 25):\n",
    "    PROTEIN_SID = f\"FM_{i}\"\n",
    "    if Path(f\"wd-md1/{PROTEIN_CLS}/{PROTEIN_SID}\").exists():\n",
    "        continue\n",
    "    %run molecular-dynamics-1.ipynb"
   ]
  },
  {
   "cell_type": "code",
   "outputs": [],
   "source": [],
   "metadata": {
    "collapsed": false
   },
   "id": "5785d868b294a5e9",
   "execution_count": null
  }
 ],
 "metadata": {
  "kernelspec": {
   "display_name": "Python 3",
   "language": "python",
   "name": "python3"
  },
  "language_info": {
   "codemirror_mode": {
    "name": "ipython",
    "version": 2
   },
   "file_extension": ".py",
   "mimetype": "text/x-python",
   "name": "python",
   "nbconvert_exporter": "python",
   "pygments_lexer": "ipython2",
   "version": "2.7.6"
  }
 },
 "nbformat": 4,
 "nbformat_minor": 5
}
