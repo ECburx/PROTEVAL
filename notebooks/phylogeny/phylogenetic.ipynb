{
 "cells": [
  {
   "cell_type": "markdown",
   "source": [
    "# Structural Phylogenetic"
   ],
   "metadata": {
    "collapsed": false
   },
   "id": "6b865dbc7e89ea9a"
  },
  {
   "cell_type": "code",
   "outputs": [],
   "source": [
    "import shutil\n",
    "from pathlib import Path\n",
    "\n",
    "import pandas as pd\n",
    "\n",
    "\n",
    "def get_paths(protcode=\"BLDB\"):\n",
    "    paths, names = [], []\n",
    "\n",
    "    ref_path = Path(f\"../../data/{protcode}_ref.csv\")\n",
    "    ref_meta = pd.read_csv(ref_path)\n",
    "    for entry, asym in zip(list(ref_meta[\"Entry ID\"]), list(ref_meta[\"Auth Asym ID\"])):\n",
    "        p = Path(f\"../../data/{protcode}/processed/{entry}_{asym}.pdb\")\n",
    "        if p.exists():\n",
    "            paths.append(p)\n",
    "            names.append(f\"{p.stem}_{protcode}\")\n",
    "\n",
    "    for p in Path(f\"../../data/{protcode}/generated/BQS\").glob(\"*.pdb\"):\n",
    "        paths.append(p)\n",
    "        names.append(f\"{p.stem}_{protcode}\")\n",
    "\n",
    "    return paths, names"
   ],
   "metadata": {
    "collapsed": false,
    "ExecuteTime": {
     "end_time": "2024-10-14T10:47:29.116971Z",
     "start_time": "2024-10-14T10:47:28.399924Z"
    }
   },
   "id": "e294e347f5da480f",
   "execution_count": 1
  },
  {
   "cell_type": "markdown",
   "source": [
    "### Structural Phylogenetic Tree (Q-score)"
   ],
   "metadata": {
    "collapsed": false
   },
   "id": "f9bcc127e1c9526c"
  },
  {
   "cell_type": "code",
   "outputs": [],
   "source": [
    "from src.phylogenetics import qs_phylogenetic_tree\n",
    "\n",
    "bldb_paths, bldb_names = get_paths(\"BLDB\")\n",
    "cytc_paths, cytc_names = get_paths(\"CYTC\")\n",
    "gfp_paths, gfp_names = get_paths(\"GFP\")\n",
    "ras_paths, ras_names = get_paths(\"RAS\")\n",
    "\n",
    "phylo_tree = qs_phylogenetic_tree(\n",
    "    pdb_list=bldb_paths + cytc_paths + gfp_paths + ras_paths,\n",
    "    names=bldb_names + cytc_names + gfp_names + ras_names\n",
    ")"
   ],
   "metadata": {
    "collapsed": false
   },
   "id": "b91d422311328b49",
   "execution_count": null
  },
  {
   "cell_type": "code",
   "outputs": [],
   "source": [
    "print(phylo_tree[\"newick\"])\n",
    "\n",
    "WD = \"wd\"\n",
    "Path(WD).mkdir(parents=True, exist_ok=True)\n",
    "with open(f'{WD}/qs-tree.all.newick', 'w', encoding='utf-8') as f:\n",
    "    f.write(phylo_tree[\"newick\"])"
   ],
   "metadata": {
    "collapsed": false
   },
   "id": "2f9d6302d1472a31",
   "execution_count": null
  },
  {
   "cell_type": "markdown",
   "source": [
    "Use Tree Visualization Tools (e.g., https://itol.embl.de/) to visualize the newick format tree."
   ],
   "metadata": {
    "collapsed": false
   },
   "id": "b1c5af127cde8870"
  },
  {
   "cell_type": "markdown",
   "source": [
    "### Structural Phylogenetic Tree (3Di)\n",
    "\n",
    "Prepare zipped PDB files for calculation."
   ],
   "metadata": {
    "collapsed": false
   },
   "id": "51c1abde8d967572"
  },
  {
   "cell_type": "code",
   "outputs": [],
   "source": [
    "WD = Path(\"./wd/3Di\")\n",
    "WD.mkdir(parents=True, exist_ok=True)\n",
    "\n",
    "\n",
    "def prepare(protcode, wd=WD):\n",
    "    for path, name in zip(*get_paths(protcode)):\n",
    "        shutil.copy(path, wd / f\"{name}.pdb\")\n",
    "\n",
    "\n",
    "prepare(\"BLDB\")\n",
    "prepare(\"CYTC\")\n",
    "prepare(\"GFP\")\n",
    "prepare(\"RAS\")\n",
    "\n",
    "shutil.make_archive(WD.parent / \"pdbs\", \"zip\", WD)"
   ],
   "metadata": {
    "collapsed": false
   },
   "id": "46cdf30b02a86d61",
   "execution_count": null
  },
  {
   "cell_type": "markdown",
   "source": [
    "Upload the zipped file to FoldTree.\n",
    "See more at https://github.com/DessimozLab/fold_tree."
   ],
   "metadata": {
    "collapsed": false
   },
   "id": "fdf132beda99da4b"
  },
  {
   "cell_type": "markdown",
   "source": [
    "### Phylogenetic Tree Summarization\n",
    "\n",
    "Make sure you have installed Dendropy.\n",
    "\n",
    "https://jeetsukumaran.github.io/DendroPy/"
   ],
   "metadata": {
    "collapsed": false
   },
   "id": "a9766561923e4da4"
  },
  {
   "cell_type": "code",
   "outputs": [],
   "source": [
    "from src.phylogenetics import normalize\n",
    "\n",
    "WD = Path(\"PHYLO\")\n",
    "assert WD.exists()\n",
    "\n",
    "normalize(input_path=WD / \"qs-tree.all.newick\", output_path=WD / \"qs-tree.all.norm.newick\")\n",
    "normalize(input_path=WD / \"3di.foldtree.newick\", output_path=WD / \"3di.foldtree.norm.newick\")"
   ],
   "metadata": {
    "collapsed": false
   },
   "id": "eac3bb1b8852adf9",
   "execution_count": null
  },
  {
   "cell_type": "markdown",
   "source": [
    "More about SumTrees.\n",
    "\n",
    "https://jeetsukumaran.github.io/DendroPy/programs/sumtrees.html"
   ],
   "metadata": {
    "collapsed": false
   },
   "id": "bafc16ca187d5e50"
  },
  {
   "cell_type": "code",
   "outputs": [],
   "source": [
    "!cd {WD} && sumtrees --output=sum.norm.newick --output-tree-format newick --set-edges mean-length --suppress-annotations qs-tree.all.norm.newick 3di.foldtree.norm.newick"
   ],
   "metadata": {
    "collapsed": false
   },
   "id": "fe8b497b7fdeed05",
   "execution_count": null
  },
  {
   "cell_type": "markdown",
   "source": [],
   "metadata": {
    "collapsed": false
   },
   "id": "2ce0ad02a9421345"
  },
  {
   "cell_type": "code",
   "outputs": [
    {
     "name": "stdout",
     "output_type": "stream",
     "text": [
      "Added tree tree-1 with id 0.\n"
     ]
    }
   ],
   "source": [
    "from ete4.smartview import TreeLayout\n",
    "from ete4 import Tree\n",
    "from pathlib import Path\n",
    "import src.colorscheme as color\n",
    "\n",
    "WD = Path(\"wd\")\n",
    "tree = Tree(open(str(WD / \"sum.norm.newick\")))\n",
    "\n",
    "for node in tree.traverse():\n",
    "    node.support = None\n",
    "\n",
    "\n",
    "def ns(node):\n",
    "    node.sm_style[\"hz_line_width\"] = 1.5\n",
    "    node.sm_style[\"vt_line_width\"] = 1.5\n",
    "    node.sm_style['hz_line_color'] = color.CS_BG_DARK\n",
    "    if node.is_leaf:\n",
    "        ids = node.name.split(\"_\")\n",
    "        mtd, cls = ids[0], ids[-1]\n",
    "        if mtd == \"SM\":\n",
    "            node.sm_style['size'] = 3\n",
    "            node.sm_style['fgcolor'] = color.CS_FG_A\n",
    "            node.sm_style[\"hz_line_width\"] = 2\n",
    "            node.sm_style['hz_line_color'] = color.CS_FG_A\n",
    "        elif mtd == \"FM\":\n",
    "            node.sm_style['size'] = 3\n",
    "            node.sm_style['fgcolor'] = color.CS_FG_B\n",
    "            node.sm_style[\"hz_line_width\"] = 2\n",
    "            node.sm_style['hz_line_color'] = color.CS_FG_B\n",
    "\n",
    "\n",
    "tree.explore(\n",
    "    keep_server=True,\n",
    "    layouts=[\n",
    "        TreeLayout(\n",
    "            name=\"SUM_TREE\",\n",
    "            ns=ns,\n",
    "            # ts=ts,\n",
    "            active=True,\n",
    "            aligned_faces=True\n",
    "        )\n",
    "    ])"
   ],
   "metadata": {
    "collapsed": false,
    "ExecuteTime": {
     "end_time": "2024-10-14T10:47:35.900307Z",
     "start_time": "2024-10-14T10:47:35.651517Z"
    }
   },
   "id": "cc61319040eb2f8f",
   "execution_count": 2
  },
  {
   "cell_type": "code",
   "outputs": [],
   "source": [
    "from matplotlib import pyplot as plt\n",
    "from matplotlib.lines import Line2D\n",
    "\n",
    "# Legends\n",
    "fig, ax = plt.subplots(figsize=(2, 2), dpi=200)\n",
    "plt.legend(\n",
    "    handles=[\n",
    "        Line2D([0], [0], \n",
    "               label=\"SM\", marker=\"o\", markerfacecolor=color.CS_FG_A,\n",
    "               markeredgewidth=0, markersize=10, linestyle=\"\"),\n",
    "        Line2D([0], [0], \n",
    "               label=\"FM\", marker=\"o\", markerfacecolor=color.CS_FG_B,\n",
    "               markeredgewidth=0, markersize=10, linestyle=\"\"),\n",
    "        Line2D([0], [0], \n",
    "               label=\"exp.\", color=color.CS_BG_DARK, linestyle=\"-\"),\n",
    "    ],\n",
    "    # loc='lower right',\n",
    "    # bbox_to_anchor=(1.28, 0)\n",
    ")\n",
    "plt.grid(False)\n",
    "plt.xticks([])\n",
    "plt.yticks([])\n",
    "plt.show()"
   ],
   "metadata": {
    "collapsed": false
   },
   "id": "14c75ce96af1a5c0",
   "execution_count": null
  },
  {
   "cell_type": "code",
   "outputs": [],
   "source": [],
   "metadata": {
    "collapsed": false
   },
   "id": "f86b9032c95e8e9b"
  }
 ],
 "metadata": {
  "kernelspec": {
   "display_name": "Python 3",
   "language": "python",
   "name": "python3"
  },
  "language_info": {
   "codemirror_mode": {
    "name": "ipython",
    "version": 2
   },
   "file_extension": ".py",
   "mimetype": "text/x-python",
   "name": "python",
   "nbconvert_exporter": "python",
   "pygments_lexer": "ipython2",
   "version": "2.7.6"
  }
 },
 "nbformat": 4,
 "nbformat_minor": 5
}
