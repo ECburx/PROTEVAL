{
 "cells": [
  {
   "cell_type": "code",
   "execution_count": null,
   "id": "initial_id",
   "metadata": {
    "collapsed": true
   },
   "outputs": [],
   "source": [
    "from pathlib import Path\n",
    "import tempfile\n",
    "\n",
    "GENERATED_CLS = \"RAS\"\n",
    "\n",
    "dst_dir = Path(f\"../data/{GENERATED_CLS}/generated/BQSH\")\n",
    "dst_dir.mkdir(parents=True, exist_ok=True)\n",
    "\n",
    "with tempfile.TemporaryDirectory() as temp_dir:\n",
    "    for pdb in Path(f\"../data/{GENERATED_CLS}/generated/BQS\").glob(\"*.pdb\"):\n",
    "        # Reduce\n",
    "        !reduce -NOFLIP {pdb} > {dst_dir}/{pdb.name}\n",
    "        # Clean the atoms not defined in CHARMM36 FF.\n",
    "        # For example:\n",
    "        # 1. HB3 is not defined in SER.\n",
    "        # 2. HB3 is not defined in LEU.\n",
    "        # ..."
   ]
  }
 ],
 "metadata": {
  "kernelspec": {
   "display_name": "Python 3",
   "language": "python",
   "name": "python3"
  },
  "language_info": {
   "codemirror_mode": {
    "name": "ipython",
    "version": 2
   },
   "file_extension": ".py",
   "mimetype": "text/x-python",
   "name": "python",
   "nbconvert_exporter": "python",
   "pygments_lexer": "ipython2",
   "version": "2.7.6"
  }
 },
 "nbformat": 4,
 "nbformat_minor": 5
}
