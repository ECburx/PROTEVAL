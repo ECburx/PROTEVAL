{
 "cells": [
  {
   "cell_type": "code",
   "execution_count": 38,
   "id": "initial_id",
   "metadata": {
    "collapsed": true,
    "ExecuteTime": {
     "end_time": "2024-10-04T07:52:43.140221Z",
     "start_time": "2024-10-04T07:52:38.730503Z"
    }
   },
   "outputs": [
    {
     "data": {
      "text/plain": "1"
     },
     "execution_count": 38,
     "metadata": {},
     "output_type": "execute_result"
    }
   ],
   "source": [
    "from pathlib import Path\n",
    "\n",
    "from pymol import cmd\n",
    "\n",
    "import src.colorscheme as color\n",
    "\n",
    "cmd.reinitialize()\n",
    "\n",
    "WD = Path(\"CR\")\n",
    "PDB1 = WD / \"7RP4_A_RAS.pdb\"\n",
    "PDB2 = WD / \"FM_13_RAS.pdb\"\n",
    "PDB3 = WD / \"SM_27_RAS.pdb\"\n",
    "cmd.load(PDB1, \"PDB1\")\n",
    "cmd.load(PDB2, \"PDB2\")\n",
    "cmd.load(PDB3, \"PDB3\")\n",
    "cmd.align(\"PDB2\", \"PDB1\")\n",
    "cmd.align(\"PDB3\", \"PDB1\")\n",
    "\n",
    "cmd.remove(\"solvent\")\n",
    "\n",
    "cmd.zoom(\"all\")\n",
    "# cmd.rotate(\"x\", 15)\n",
    "cmd.rotate(\"y\", 90)\n",
    "cmd.rotate(\"z\", 65)\n",
    "\n",
    "# PDB 1\n",
    "cmd.show(\"cartoon\", \"PDB1 and polymer\")\n",
    "cmd.show(\"lines\", \"not polymer\")\n",
    "cmd.hide(\"cartoon\", \"PDB2\")\n",
    "cmd.hide(\"cartoon\", \"PDB3\")\n",
    "cmd.spectrum(\"b\", f\"0x{color.CS_FG_B[1:]} 0x{color.CS_FG_A[1:]}\", minimum=1, maximum=9, selection=\"polymer\")\n",
    "cmd.png(str(WD / f\"{PDB1.stem} ({PDB2.stem}).png\"), width=1000, height=1000, dpi=300)\n",
    "\n",
    "cmd.remove(\"not polymer\")\n",
    "# PDB 2\n",
    "cmd.show(\"cartoon\", \"PDB2\")\n",
    "cmd.hide(\"cartoon\", \"PDB1\")\n",
    "cmd.hide(\"cartoon\", \"PDB3\")\n",
    "cmd.spectrum(\"b\", f\"0x{color.CS_FG_B[1:]} 0x{color.CS_FG_A[1:]}\", minimum=1, maximum=9, selection=\"polymer\")\n",
    "cmd.png(str(WD / f\"{PDB2.stem} ({PDB1.stem}).png\"), width=1000, height=1000, dpi=300)\n",
    "# PDB 3\n",
    "cmd.show(\"cartoon\", \"PDB3\")\n",
    "cmd.hide(\"cartoon\", \"PDB1\")\n",
    "cmd.hide(\"cartoon\", \"PDB2\")\n",
    "cmd.spectrum(\"b\", f\"0x{color.CS_FG_B[1:]} 0x{color.CS_FG_A[1:]}\", minimum=1, maximum=9, selection=\"polymer\")\n",
    "cmd.png(str(WD / f\"{PDB3.stem} ({PDB1.stem}).png\"), width=1000, height=1000, dpi=300)"
   ]
  },
  {
   "cell_type": "code",
   "outputs": [
    {
     "data": {
      "text/plain": "<Figure size 800x140 with 1 Axes>",
      "image/png": "[encoded data removed]"
     },
     "metadata": {},
     "output_type": "display_data"
    }
   ],
   "source": [
    "import matplotlib.pyplot as plt\n",
    "import matplotlib as mpl\n",
    "import matplotlib.colors as mcolors\n",
    "\n",
    "fig, ax = plt.subplots(figsize=(4, 0.7), dpi=200)\n",
    "fig.subplots_adjust(bottom=0.5)\n",
    "\n",
    "cmap = mcolors.LinearSegmentedColormap.from_list(\"ramachandran_cmap\", [color.CS_FG_B, color.CS_FG_A])\n",
    "norm = mpl.colors.Normalize(vmin=0, vmax=9)\n",
    "cb = mpl.colorbar.ColorbarBase(ax, cmap=cmap, norm=norm, orientation='horizontal')\n",
    "cb.set_ticks([])\n",
    "cb.ax.text(0, 1.2, 'variable', transform=cb.ax.transAxes, ha='left', va='bottom', fontsize=13)\n",
    "cb.ax.text(1.0, 1.2, 'conserved', transform=cb.ax.transAxes, ha='right', va='bottom', fontsize=13)\n",
    "plt.show()"
   ],
   "metadata": {
    "collapsed": false,
    "ExecuteTime": {
     "end_time": "2024-10-04T09:08:02.803968Z",
     "start_time": "2024-10-04T09:08:02.776567Z"
    }
   },
   "id": "7aa913065f8d33c8",
   "execution_count": 41
  },
  {
   "cell_type": "code",
   "outputs": [],
   "source": [],
   "metadata": {
    "collapsed": false
   },
   "id": "3d82ea2bd5d0b0e5"
  }
 ],
 "metadata": {
  "kernelspec": {
   "display_name": "Python 3",
   "language": "python",
   "name": "python3"
  },
  "language_info": {
   "codemirror_mode": {
    "name": "ipython",
    "version": 2
   },
   "file_extension": ".py",
   "mimetype": "text/x-python",
   "name": "python",
   "nbconvert_exporter": "python",
   "pygments_lexer": "ipython2",
   "version": "2.7.6"
  }
 },
 "nbformat": 4,
 "nbformat_minor": 5
}
